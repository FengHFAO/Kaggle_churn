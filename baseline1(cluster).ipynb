{
 "cells": [
  {
   "cell_type": "code",
   "execution_count": 3,
   "metadata": {},
   "outputs": [],
   "source": [
    "import pandas as pd\n",
    "import numpy as np\n",
    "import matplotlib.pyplot as plt\n",
    "import seaborn as sns\n",
    "# 支持中文\n",
    "plt.rcParams['font.sans-serif'] = ['SimHei']  # 用来正常显示中文标签\n",
    "plt.rcParams['axes.unicode_minus'] = False  # 用来正常显示负号\n",
    "import warnings\n",
    "warnings.filterwarnings('ignore')"
   ]
  },
  {
   "cell_type": "code",
   "execution_count": 4,
   "metadata": {},
   "outputs": [],
   "source": [
    "origin_data = pd.read_csv(\"D:\\Jupyter_documents\\Kaggle_churn\\data\\Telecom_customer churn.csv\")"
   ]
  },
  {
   "cell_type": "code",
   "execution_count": 5,
   "metadata": {},
   "outputs": [
    {
     "name": "stdout",
     "output_type": "stream",
     "text": [
      "<class 'pandas.core.frame.DataFrame'>\n",
      "RangeIndex: 100000 entries, 0 to 99999\n",
      "Data columns (total 100 columns):\n",
      "rev_Mean            99643 non-null float64\n",
      "mou_Mean            99643 non-null float64\n",
      "totmrc_Mean         99643 non-null float64\n",
      "da_Mean             99643 non-null float64\n",
      "ovrmou_Mean         99643 non-null float64\n",
      "ovrrev_Mean         99643 non-null float64\n",
      "vceovr_Mean         99643 non-null float64\n",
      "datovr_Mean         99643 non-null float64\n",
      "roam_Mean           99643 non-null float64\n",
      "change_mou          99109 non-null float64\n",
      "change_rev          99109 non-null float64\n",
      "drop_vce_Mean       100000 non-null float64\n",
      "drop_dat_Mean       100000 non-null float64\n",
      "blck_vce_Mean       100000 non-null float64\n",
      "blck_dat_Mean       100000 non-null float64\n",
      "unan_vce_Mean       100000 non-null float64\n",
      "unan_dat_Mean       100000 non-null float64\n",
      "plcd_vce_Mean       100000 non-null float64\n",
      "plcd_dat_Mean       100000 non-null float64\n",
      "recv_vce_Mean       100000 non-null float64\n",
      "recv_sms_Mean       100000 non-null float64\n",
      "comp_vce_Mean       100000 non-null float64\n",
      "comp_dat_Mean       100000 non-null float64\n",
      "custcare_Mean       100000 non-null float64\n",
      "ccrndmou_Mean       100000 non-null float64\n",
      "cc_mou_Mean         100000 non-null float64\n",
      "inonemin_Mean       100000 non-null float64\n",
      "threeway_Mean       100000 non-null float64\n",
      "mou_cvce_Mean       100000 non-null float64\n",
      "mou_cdat_Mean       100000 non-null float64\n",
      "mou_rvce_Mean       100000 non-null float64\n",
      "owylis_vce_Mean     100000 non-null float64\n",
      "mouowylisv_Mean     100000 non-null float64\n",
      "iwylis_vce_Mean     100000 non-null float64\n",
      "mouiwylisv_Mean     100000 non-null float64\n",
      "peak_vce_Mean       100000 non-null float64\n",
      "peak_dat_Mean       100000 non-null float64\n",
      "mou_peav_Mean       100000 non-null float64\n",
      "mou_pead_Mean       100000 non-null float64\n",
      "opk_vce_Mean        100000 non-null float64\n",
      "opk_dat_Mean        100000 non-null float64\n",
      "mou_opkv_Mean       100000 non-null float64\n",
      "mou_opkd_Mean       100000 non-null float64\n",
      "drop_blk_Mean       100000 non-null float64\n",
      "attempt_Mean        100000 non-null float64\n",
      "complete_Mean       100000 non-null float64\n",
      "callfwdv_Mean       100000 non-null float64\n",
      "callwait_Mean       100000 non-null float64\n",
      "churn               100000 non-null int64\n",
      "months              100000 non-null int64\n",
      "uniqsubs            100000 non-null int64\n",
      "actvsubs            100000 non-null int64\n",
      "new_cell            100000 non-null object\n",
      "crclscod            100000 non-null object\n",
      "asl_flag            100000 non-null object\n",
      "totcalls            100000 non-null int64\n",
      "totmou              100000 non-null float64\n",
      "totrev              100000 non-null float64\n",
      "adjrev              100000 non-null float64\n",
      "adjmou              100000 non-null float64\n",
      "adjqty              100000 non-null int64\n",
      "avgrev              100000 non-null float64\n",
      "avgmou              100000 non-null float64\n",
      "avgqty              100000 non-null float64\n",
      "avg3mou             100000 non-null int64\n",
      "avg3qty             100000 non-null int64\n",
      "avg3rev             100000 non-null int64\n",
      "avg6mou             97161 non-null float64\n",
      "avg6qty             97161 non-null float64\n",
      "avg6rev             97161 non-null float64\n",
      "prizm_social_one    92612 non-null object\n",
      "area                99960 non-null object\n",
      "dualband            99999 non-null object\n",
      "refurb_new          99999 non-null object\n",
      "hnd_price           99153 non-null float64\n",
      "phones              99999 non-null float64\n",
      "models              99999 non-null float64\n",
      "hnd_webcap          89811 non-null object\n",
      "truck               98268 non-null float64\n",
      "rv                  98268 non-null float64\n",
      "ownrent             66294 non-null object\n",
      "lor                 69810 non-null float64\n",
      "dwlltype            68091 non-null object\n",
      "marital             98268 non-null object\n",
      "adults              76981 non-null float64\n",
      "infobase            77921 non-null object\n",
      "income              74564 non-null float64\n",
      "numbcars            50634 non-null float64\n",
      "HHstatin            62077 non-null object\n",
      "dwllsize            61692 non-null object\n",
      "forgntvl            98268 non-null float64\n",
      "ethnic              98268 non-null object\n",
      "kid0_2              98268 non-null object\n",
      "kid3_5              98268 non-null object\n",
      "kid6_10             98268 non-null object\n",
      "kid11_15            98268 non-null object\n",
      "kid16_17            98268 non-null object\n",
      "creditcd            98268 non-null object\n",
      "eqpdays             99999 non-null float64\n",
      "Customer_ID         100000 non-null int64\n",
      "dtypes: float64(69), int64(10), object(21)\n",
      "memory usage: 76.3+ MB\n"
     ]
    }
   ],
   "source": [
    "origin_data.info()"
   ]
  },
  {
   "cell_type": "code",
   "execution_count": 6,
   "metadata": {},
   "outputs": [
    {
     "data": {
      "text/plain": [
       "(100000, 100)"
      ]
     },
     "execution_count": 6,
     "metadata": {},
     "output_type": "execute_result"
    }
   ],
   "source": [
    "origin_data.shape"
   ]
  },
  {
   "cell_type": "code",
   "execution_count": 7,
   "metadata": {},
   "outputs": [
    {
     "data": {
      "text/plain": [
       "churn\n",
       "0    50438\n",
       "1    49562\n",
       "Name: churn, dtype: int64"
      ]
     },
     "execution_count": 7,
     "metadata": {},
     "output_type": "execute_result"
    }
   ],
   "source": [
    "df = origin_data.groupby('churn')\n",
    "df = df['churn'].count()\n",
    "df"
   ]
  },
  {
   "cell_type": "markdown",
   "metadata": {},
   "source": [
    "数据质量检查"
   ]
  },
  {
   "cell_type": "code",
   "execution_count": 8,
   "metadata": {},
   "outputs": [
    {
     "data": {
      "image/png": "[encoded data removed]",
      "text/plain": [
       "<Figure size 1400x1000 with 1 Axes>"
      ]
     },
     "metadata": {
      "needs_background": "light"
     },
     "output_type": "display_data"
    }
   ],
   "source": [
    "#缺失值的统计\n",
    "data = (origin_data.count() / len(origin_data)).drop('churn').sort_values().values\n",
    "ind = np.arange(len(data))\n",
    "\n",
    "fig, axes = plt.subplots(1,1,figsize=(14, 10), dpi=100)\n",
    "axes.bar(ind, data, color='royalblue')\n",
    "\n",
    "axes.set_ylabel('可用数据总量',fontsize=16);\n",
    "axes.set_title('缺失值比例',fontsize=20)\n",
    "plt.savefig(\"缺失值统计.jpg\")\n",
    "plt.show()"
   ]
  },
  {
   "cell_type": "markdown",
   "metadata": {},
   "source": [
    "电信呼叫和使用状况"
   ]
  },
  {
   "cell_type": "code",
   "execution_count": 9,
   "metadata": {},
   "outputs": [],
   "source": [
    "def dist_plot(colname, spilt_point):\n",
    "    '''分别画出正常用户和流失用户的分布图\n",
    "       @param colname: 原始数据的列名\n",
    "       @param spilt_point: 标注的点\n",
    "    '''\n",
    "    from scipy import stats\n",
    "\n",
    "    fig, ax = plt.subplots(2, 1, figsize=(12,10))\n",
    "\n",
    "    not_churn = origin_data[origin_data['churn']==0][colname]\n",
    "    not_churn = not_churn[-pd.isnull(not_churn)] # 去除空值\n",
    "    churn = origin_data[origin_data['churn']==1][colname]\n",
    "    churn = churn[-pd.isnull(churn)] \n",
    "\n",
    "    print('%.2f%%的正常用户'%stats.percentileofscore(not_churn, spilt_point)+colname+'低于%i'%spilt_point)\n",
    "    print('%.2f%%的流失用户'%stats.percentileofscore(churn, spilt_point)+colname+'低于%i'%spilt_point)\n",
    "\n",
    "    sns.lineplot(range(len(sorted(not_churn))),sorted(not_churn), ax=ax[0], color='r')\n",
    "    # 添加标注\n",
    "    y0 = spilt_point\n",
    "    x0 = len(not_churn)*stats.percentileofscore(not_churn, y0)/100\n",
    "    ax[0].vlines(x0, 0, y0, colors = \"k\", linestyles = \"dashed\")\n",
    "    ax[0].hlines(y0, 0, x0, colors = \"k\", linestyles = \"dashed\")\n",
    "    ax[0].scatter([x0, ], [y0, ], s=50, color='k')\n",
    "    ax[0].annotate('%.2f%%的正常用户'%stats.percentileofscore(not_churn, spilt_point)+colname+'低于%i'%spilt_point,\n",
    "                 xy=(x0, y0), xytext=(-250, +30),\n",
    "                 textcoords='offset points', fontsize=16,horizontalalignment='left')\n",
    "    ax[0].set_title(colname+'分布', fontsize=14)\n",
    "    ax[0].set_ylabel(colname, fontsize=14)\n",
    "    ax[0].set_xlabel('用户', fontsize=14)\n",
    "\n",
    "\n",
    "    sns.lineplot(range(len(sorted(churn))),sorted(churn), ax=ax[1], color='b')\n",
    "    # 添加标注\n",
    "    y0 = spilt_point\n",
    "    x0 = len(churn)*stats.percentileofscore(churn, y0)/100\n",
    "    ax[1].vlines(x0, 0, y0, colors = \"k\", linestyles = \"dashed\")\n",
    "    ax[1].hlines(y0, 0, x0, colors = \"k\", linestyles = \"dashed\")\n",
    "    ax[1].scatter([x0, ], [y0, ], s=50, color='k')\n",
    "    ax[1].annotate('%.2f%%的流失用户'%stats.percentileofscore(churn, spilt_point)+colname+'低于%i'%spilt_point,\n",
    "             xy=(x0, y0), xytext=(-250, +30),\n",
    "             textcoords='offset points', fontsize=16,horizontalalignment='left')\n",
    "    ax[1].set_title(colname+'分布', fontsize=14)\n",
    "    ax[1].set_ylabel(colname, fontsize=14)\n",
    "    ax[1].set_xlabel('用户', fontsize=14)\n",
    "\n",
    "    plt.savefig(colname+'分布图.jpg')\n",
    "    plt.show()"
   ]
  },
  {
   "cell_type": "code",
   "execution_count": 10,
   "metadata": {},
   "outputs": [
    {
     "name": "stdout",
     "output_type": "stream",
     "text": [
      "99.40%的正常用户drop_vce_Mean低于50\n",
      "99.45%的流失用户drop_vce_Mean低于50\n"
     ]
    },
    {
     "data": {
      "image/png": "[encoded data removed]",
      "text/plain": [
       "<Figure size 864x720 with 2 Axes>"
      ]
     },
     "metadata": {
      "needs_background": "light"
     },
     "output_type": "display_data"
    }
   ],
   "source": [
    "dist_plot('drop_vce_Mean', 50)"
   ]
  },
  {
   "cell_type": "code",
   "execution_count": 11,
   "metadata": {},
   "outputs": [
    {
     "name": "stdout",
     "output_type": "stream",
     "text": [
      "99.99%的正常用户drop_dat_Mean低于20\n",
      "99.99%的流失用户drop_dat_Mean低于20\n"
     ]
    },
    {
     "data": {
      "image/png": "[encoded data removed]",
      "text/plain": [
       "<Figure size 864x720 with 2 Axes>"
      ]
     },
     "metadata": {
      "needs_background": "light"
     },
     "output_type": "display_data"
    }
   ],
   "source": [
    "dist_plot('drop_dat_Mean', 20)"
   ]
  },
  {
   "cell_type": "code",
   "execution_count": 12,
   "metadata": {},
   "outputs": [
    {
     "name": "stdout",
     "output_type": "stream",
     "text": [
      "99.66%的正常用户comp_dat_Mean低于50\n",
      "99.72%的流失用户comp_dat_Mean低于50\n"
     ]
    },
    {
     "data": {
      "image/png": "[encoded data removed]",
      "text/plain": [
       "<Figure size 864x720 with 2 Axes>"
      ]
     },
     "metadata": {
      "needs_background": "light"
     },
     "output_type": "display_data"
    }
   ],
   "source": [
    "dist_plot('comp_dat_Mean', 50)"
   ]
  },
  {
   "cell_type": "code",
   "execution_count": 13,
   "metadata": {},
   "outputs": [
    {
     "name": "stdout",
     "output_type": "stream",
     "text": [
      "85.37%的正常用户avg6mou低于1000\n",
      "87.55%的流失用户avg6mou低于1000\n"
     ]
    },
    {
     "data": {
      "image/png": "[encoded data removed]",
      "text/plain": [
       "<Figure size 864x720 with 2 Axes>"
      ]
     },
     "metadata": {
      "needs_background": "light"
     },
     "output_type": "display_data"
    }
   ],
   "source": [
    "dist_plot('avg6mou', 1000)"
   ]
  },
  {
   "cell_type": "code",
   "execution_count": 14,
   "metadata": {},
   "outputs": [
    {
     "name": "stdout",
     "output_type": "stream",
     "text": [
      "99.61%的正常用户change_mou低于1000\n",
      "99.55%的流失用户change_mou低于1000\n"
     ]
    },
    {
     "data": {
      "image/png": "[encoded data removed]",
      "text/plain": [
       "<Figure size 864x720 with 2 Axes>"
      ]
     },
     "metadata": {
      "needs_background": "light"
     },
     "output_type": "display_data"
    }
   ],
   "source": [
    "dist_plot('change_mou', 1000)"
   ]
  },
  {
   "cell_type": "markdown",
   "metadata": {},
   "source": [
    "消费情况"
   ]
  },
  {
   "cell_type": "code",
   "execution_count": 15,
   "metadata": {},
   "outputs": [
    {
     "name": "stdout",
     "output_type": "stream",
     "text": [
      "99.83%的正常用户rev_Mean低于400\n",
      "99.87%的流失用户rev_Mean低于400\n"
     ]
    },
    {
     "data": {
      "image/png": "[encoded data removed]",
      "text/plain": [
       "<Figure size 864x720 with 2 Axes>"
      ]
     },
     "metadata": {
      "needs_background": "light"
     },
     "output_type": "display_data"
    }
   ],
   "source": [
    "dist_plot('rev_Mean', 400)"
   ]
  },
  {
   "cell_type": "code",
   "execution_count": 16,
   "metadata": {},
   "outputs": [
    {
     "name": "stdout",
     "output_type": "stream",
     "text": [
      "88.42%的正常用户avg3rev低于100\n",
      "88.84%的流失用户avg3rev低于100\n"
     ]
    },
    {
     "data": {
      "image/png": "[encoded data removed]",
      "text/plain": [
       "<Figure size 864x720 with 2 Axes>"
      ]
     },
     "metadata": {
      "needs_background": "light"
     },
     "output_type": "display_data"
    }
   ],
   "source": [
    "dist_plot('avg3rev', 100)"
   ]
  },
  {
   "cell_type": "markdown",
   "metadata": {},
   "source": [
    "家庭状况"
   ]
  },
  {
   "cell_type": "code",
   "execution_count": 17,
   "metadata": {},
   "outputs": [
    {
     "name": "stdout",
     "output_type": "stream",
     "text": [
      "50.80%的正常用户income低于6\n",
      "50.02%的流失用户income低于6\n"
     ]
    },
    {
     "data": {
      "image/png": "[encoded data removed]",
      "text/plain": [
       "<Figure size 864x720 with 2 Axes>"
      ]
     },
     "metadata": {
      "needs_background": "light"
     },
     "output_type": "display_data"
    }
   ],
   "source": [
    "dist_plot('income', 6)"
   ]
  },
  {
   "cell_type": "code",
   "execution_count": 18,
   "metadata": {},
   "outputs": [
    {
     "name": "stdout",
     "output_type": "stream",
     "text": [
      "87.04%的正常用户hnd_price低于150\n",
      "90.87%的流失用户hnd_price低于150\n"
     ]
    },
    {
     "data": {
      "image/png": "[encoded data removed]",
      "text/plain": [
       "<Figure size 864x720 with 2 Axes>"
      ]
     },
     "metadata": {
      "needs_background": "light"
     },
     "output_type": "display_data"
    }
   ],
   "source": [
    "dist_plot('hnd_price', 150)"
   ]
  },
  {
   "cell_type": "markdown",
   "metadata": {},
   "source": [
    "特征的相关性分析"
   ]
  },
  {
   "cell_type": "code",
   "execution_count": 19,
   "metadata": {},
   "outputs": [
    {
     "data": {
      "text/html": [
       "<div>\n",
       "<style scoped>\n",
       "    .dataframe tbody tr th:only-of-type {\n",
       "        vertical-align: middle;\n",
       "    }\n",
       "\n",
       "    .dataframe tbody tr th {\n",
       "        vertical-align: top;\n",
       "    }\n",
       "\n",
       "    .dataframe thead th {\n",
       "        text-align: right;\n",
       "    }\n",
       "</style>\n",
       "<table border=\"1\" class=\"dataframe\">\n",
       "  <thead>\n",
       "    <tr style=\"text-align: right;\">\n",
       "      <th></th>\n",
       "      <th>rev_Mean</th>\n",
       "      <th>mou_Mean</th>\n",
       "      <th>totmrc_Mean</th>\n",
       "      <th>da_Mean</th>\n",
       "      <th>ovrmou_Mean</th>\n",
       "      <th>ovrrev_Mean</th>\n",
       "      <th>vceovr_Mean</th>\n",
       "      <th>datovr_Mean</th>\n",
       "      <th>roam_Mean</th>\n",
       "      <th>change_mou</th>\n",
       "      <th>...</th>\n",
       "      <th>phones</th>\n",
       "      <th>models</th>\n",
       "      <th>truck</th>\n",
       "      <th>rv</th>\n",
       "      <th>lor</th>\n",
       "      <th>adults</th>\n",
       "      <th>income</th>\n",
       "      <th>numbcars</th>\n",
       "      <th>forgntvl</th>\n",
       "      <th>eqpdays</th>\n",
       "    </tr>\n",
       "  </thead>\n",
       "  <tbody>\n",
       "    <tr>\n",
       "      <th>rev_Mean</th>\n",
       "      <td>1.000000</td>\n",
       "      <td>0.706029</td>\n",
       "      <td>0.602148</td>\n",
       "      <td>0.403806</td>\n",
       "      <td>0.772117</td>\n",
       "      <td>0.776647</td>\n",
       "      <td>0.772159</td>\n",
       "      <td>0.152664</td>\n",
       "      <td>0.374718</td>\n",
       "      <td>0.075835</td>\n",
       "      <td>...</td>\n",
       "      <td>0.228117</td>\n",
       "      <td>0.225320</td>\n",
       "      <td>-0.035863</td>\n",
       "      <td>-0.010322</td>\n",
       "      <td>-0.056251</td>\n",
       "      <td>-0.033564</td>\n",
       "      <td>-0.040699</td>\n",
       "      <td>0.001509</td>\n",
       "      <td>-0.038434</td>\n",
       "      <td>-0.213402</td>\n",
       "    </tr>\n",
       "    <tr>\n",
       "      <th>mou_Mean</th>\n",
       "      <td>0.706029</td>\n",
       "      <td>1.000000</td>\n",
       "      <td>0.575567</td>\n",
       "      <td>0.394583</td>\n",
       "      <td>0.575611</td>\n",
       "      <td>0.541250</td>\n",
       "      <td>0.539811</td>\n",
       "      <td>0.090349</td>\n",
       "      <td>0.125442</td>\n",
       "      <td>-0.008211</td>\n",
       "      <td>...</td>\n",
       "      <td>0.291907</td>\n",
       "      <td>0.286538</td>\n",
       "      <td>-0.054795</td>\n",
       "      <td>-0.027519</td>\n",
       "      <td>-0.063562</td>\n",
       "      <td>-0.023166</td>\n",
       "      <td>-0.093709</td>\n",
       "      <td>0.013006</td>\n",
       "      <td>-0.051355</td>\n",
       "      <td>-0.315322</td>\n",
       "    </tr>\n",
       "    <tr>\n",
       "      <th>totmrc_Mean</th>\n",
       "      <td>0.602148</td>\n",
       "      <td>0.575567</td>\n",
       "      <td>1.000000</td>\n",
       "      <td>0.306966</td>\n",
       "      <td>0.200732</td>\n",
       "      <td>0.164401</td>\n",
       "      <td>0.163038</td>\n",
       "      <td>0.035428</td>\n",
       "      <td>0.046865</td>\n",
       "      <td>-0.020845</td>\n",
       "      <td>...</td>\n",
       "      <td>0.223322</td>\n",
       "      <td>0.219285</td>\n",
       "      <td>-0.035703</td>\n",
       "      <td>-0.016609</td>\n",
       "      <td>-0.053149</td>\n",
       "      <td>-0.034945</td>\n",
       "      <td>-0.026211</td>\n",
       "      <td>0.004181</td>\n",
       "      <td>-0.034726</td>\n",
       "      <td>-0.247781</td>\n",
       "    </tr>\n",
       "    <tr>\n",
       "      <th>da_Mean</th>\n",
       "      <td>0.403806</td>\n",
       "      <td>0.394583</td>\n",
       "      <td>0.306966</td>\n",
       "      <td>1.000000</td>\n",
       "      <td>0.304596</td>\n",
       "      <td>0.274344</td>\n",
       "      <td>0.274162</td>\n",
       "      <td>0.040290</td>\n",
       "      <td>0.044899</td>\n",
       "      <td>-0.021603</td>\n",
       "      <td>...</td>\n",
       "      <td>0.168919</td>\n",
       "      <td>0.160514</td>\n",
       "      <td>-0.032306</td>\n",
       "      <td>-0.007566</td>\n",
       "      <td>-0.042996</td>\n",
       "      <td>-0.037116</td>\n",
       "      <td>0.032336</td>\n",
       "      <td>-0.000643</td>\n",
       "      <td>-0.021007</td>\n",
       "      <td>-0.120649</td>\n",
       "    </tr>\n",
       "    <tr>\n",
       "      <th>ovrmou_Mean</th>\n",
       "      <td>0.772117</td>\n",
       "      <td>0.575611</td>\n",
       "      <td>0.200732</td>\n",
       "      <td>0.304596</td>\n",
       "      <td>1.000000</td>\n",
       "      <td>0.956056</td>\n",
       "      <td>0.953231</td>\n",
       "      <td>0.162933</td>\n",
       "      <td>0.040371</td>\n",
       "      <td>-0.011172</td>\n",
       "      <td>...</td>\n",
       "      <td>0.141164</td>\n",
       "      <td>0.140901</td>\n",
       "      <td>-0.024408</td>\n",
       "      <td>-0.003892</td>\n",
       "      <td>-0.037157</td>\n",
       "      <td>-0.020575</td>\n",
       "      <td>-0.030198</td>\n",
       "      <td>-0.000350</td>\n",
       "      <td>-0.026663</td>\n",
       "      <td>-0.127763</td>\n",
       "    </tr>\n",
       "    <tr>\n",
       "      <th>...</th>\n",
       "      <td>...</td>\n",
       "      <td>...</td>\n",
       "      <td>...</td>\n",
       "      <td>...</td>\n",
       "      <td>...</td>\n",
       "      <td>...</td>\n",
       "      <td>...</td>\n",
       "      <td>...</td>\n",
       "      <td>...</td>\n",
       "      <td>...</td>\n",
       "      <td>...</td>\n",
       "      <td>...</td>\n",
       "      <td>...</td>\n",
       "      <td>...</td>\n",
       "      <td>...</td>\n",
       "      <td>...</td>\n",
       "      <td>...</td>\n",
       "      <td>...</td>\n",
       "      <td>...</td>\n",
       "      <td>...</td>\n",
       "      <td>...</td>\n",
       "    </tr>\n",
       "    <tr>\n",
       "      <th>adults</th>\n",
       "      <td>-0.033564</td>\n",
       "      <td>-0.023166</td>\n",
       "      <td>-0.034945</td>\n",
       "      <td>-0.037116</td>\n",
       "      <td>-0.020575</td>\n",
       "      <td>-0.021399</td>\n",
       "      <td>-0.021327</td>\n",
       "      <td>-0.003055</td>\n",
       "      <td>-0.001428</td>\n",
       "      <td>-0.002512</td>\n",
       "      <td>...</td>\n",
       "      <td>-0.001800</td>\n",
       "      <td>0.002282</td>\n",
       "      <td>0.260806</td>\n",
       "      <td>0.162654</td>\n",
       "      <td>0.366560</td>\n",
       "      <td>1.000000</td>\n",
       "      <td>0.089325</td>\n",
       "      <td>0.237031</td>\n",
       "      <td>0.112912</td>\n",
       "      <td>0.011267</td>\n",
       "    </tr>\n",
       "    <tr>\n",
       "      <th>income</th>\n",
       "      <td>-0.040699</td>\n",
       "      <td>-0.093709</td>\n",
       "      <td>-0.026211</td>\n",
       "      <td>0.032336</td>\n",
       "      <td>-0.030198</td>\n",
       "      <td>-0.038617</td>\n",
       "      <td>-0.037516</td>\n",
       "      <td>-0.015531</td>\n",
       "      <td>-0.008839</td>\n",
       "      <td>-0.008239</td>\n",
       "      <td>...</td>\n",
       "      <td>-0.047666</td>\n",
       "      <td>-0.043265</td>\n",
       "      <td>0.037975</td>\n",
       "      <td>0.086854</td>\n",
       "      <td>0.068491</td>\n",
       "      <td>0.089325</td>\n",
       "      <td>1.000000</td>\n",
       "      <td>0.069197</td>\n",
       "      <td>0.088237</td>\n",
       "      <td>0.105680</td>\n",
       "    </tr>\n",
       "    <tr>\n",
       "      <th>numbcars</th>\n",
       "      <td>0.001509</td>\n",
       "      <td>0.013006</td>\n",
       "      <td>0.004181</td>\n",
       "      <td>-0.000643</td>\n",
       "      <td>-0.000350</td>\n",
       "      <td>-0.000347</td>\n",
       "      <td>0.000074</td>\n",
       "      <td>-0.004351</td>\n",
       "      <td>-0.005464</td>\n",
       "      <td>0.000997</td>\n",
       "      <td>...</td>\n",
       "      <td>0.006111</td>\n",
       "      <td>0.013237</td>\n",
       "      <td>0.027228</td>\n",
       "      <td>0.014937</td>\n",
       "      <td>0.113999</td>\n",
       "      <td>0.237031</td>\n",
       "      <td>0.069197</td>\n",
       "      <td>1.000000</td>\n",
       "      <td>0.025110</td>\n",
       "      <td>-0.019281</td>\n",
       "    </tr>\n",
       "    <tr>\n",
       "      <th>forgntvl</th>\n",
       "      <td>-0.038434</td>\n",
       "      <td>-0.051355</td>\n",
       "      <td>-0.034726</td>\n",
       "      <td>-0.021007</td>\n",
       "      <td>-0.026663</td>\n",
       "      <td>-0.028010</td>\n",
       "      <td>-0.028211</td>\n",
       "      <td>-0.001937</td>\n",
       "      <td>-0.005337</td>\n",
       "      <td>0.005273</td>\n",
       "      <td>...</td>\n",
       "      <td>-0.009672</td>\n",
       "      <td>-0.010085</td>\n",
       "      <td>0.040533</td>\n",
       "      <td>0.046756</td>\n",
       "      <td>0.072458</td>\n",
       "      <td>0.112912</td>\n",
       "      <td>0.088237</td>\n",
       "      <td>0.025110</td>\n",
       "      <td>1.000000</td>\n",
       "      <td>0.046153</td>\n",
       "    </tr>\n",
       "    <tr>\n",
       "      <th>eqpdays</th>\n",
       "      <td>-0.213402</td>\n",
       "      <td>-0.315322</td>\n",
       "      <td>-0.247781</td>\n",
       "      <td>-0.120649</td>\n",
       "      <td>-0.127763</td>\n",
       "      <td>-0.135519</td>\n",
       "      <td>-0.132001</td>\n",
       "      <td>-0.052743</td>\n",
       "      <td>-0.022265</td>\n",
       "      <td>-0.007486</td>\n",
       "      <td>...</td>\n",
       "      <td>-0.357707</td>\n",
       "      <td>-0.380732</td>\n",
       "      <td>0.043237</td>\n",
       "      <td>0.030765</td>\n",
       "      <td>0.041334</td>\n",
       "      <td>0.011267</td>\n",
       "      <td>0.105680</td>\n",
       "      <td>-0.019281</td>\n",
       "      <td>0.046153</td>\n",
       "      <td>1.000000</td>\n",
       "    </tr>\n",
       "  </tbody>\n",
       "</table>\n",
       "<p>77 rows × 77 columns</p>\n",
       "</div>"
      ],
      "text/plain": [
       "             rev_Mean  mou_Mean  totmrc_Mean   da_Mean  ovrmou_Mean  \\\n",
       "rev_Mean     1.000000  0.706029     0.602148  0.403806     0.772117   \n",
       "mou_Mean     0.706029  1.000000     0.575567  0.394583     0.575611   \n",
       "totmrc_Mean  0.602148  0.575567     1.000000  0.306966     0.200732   \n",
       "da_Mean      0.403806  0.394583     0.306966  1.000000     0.304596   \n",
       "ovrmou_Mean  0.772117  0.575611     0.200732  0.304596     1.000000   \n",
       "...               ...       ...          ...       ...          ...   \n",
       "adults      -0.033564 -0.023166    -0.034945 -0.037116    -0.020575   \n",
       "income      -0.040699 -0.093709    -0.026211  0.032336    -0.030198   \n",
       "numbcars     0.001509  0.013006     0.004181 -0.000643    -0.000350   \n",
       "forgntvl    -0.038434 -0.051355    -0.034726 -0.021007    -0.026663   \n",
       "eqpdays     -0.213402 -0.315322    -0.247781 -0.120649    -0.127763   \n",
       "\n",
       "             ovrrev_Mean  vceovr_Mean  datovr_Mean  roam_Mean  change_mou  \\\n",
       "rev_Mean        0.776647     0.772159     0.152664   0.374718    0.075835   \n",
       "mou_Mean        0.541250     0.539811     0.090349   0.125442   -0.008211   \n",
       "totmrc_Mean     0.164401     0.163038     0.035428   0.046865   -0.020845   \n",
       "da_Mean         0.274344     0.274162     0.040290   0.044899   -0.021603   \n",
       "ovrmou_Mean     0.956056     0.953231     0.162933   0.040371   -0.011172   \n",
       "...                  ...          ...          ...        ...         ...   \n",
       "adults         -0.021399    -0.021327    -0.003055  -0.001428   -0.002512   \n",
       "income         -0.038617    -0.037516    -0.015531  -0.008839   -0.008239   \n",
       "numbcars       -0.000347     0.000074    -0.004351  -0.005464    0.000997   \n",
       "forgntvl       -0.028010    -0.028211    -0.001937  -0.005337    0.005273   \n",
       "eqpdays        -0.135519    -0.132001    -0.052743  -0.022265   -0.007486   \n",
       "\n",
       "             ...    phones    models     truck        rv       lor    adults  \\\n",
       "rev_Mean     ...  0.228117  0.225320 -0.035863 -0.010322 -0.056251 -0.033564   \n",
       "mou_Mean     ...  0.291907  0.286538 -0.054795 -0.027519 -0.063562 -0.023166   \n",
       "totmrc_Mean  ...  0.223322  0.219285 -0.035703 -0.016609 -0.053149 -0.034945   \n",
       "da_Mean      ...  0.168919  0.160514 -0.032306 -0.007566 -0.042996 -0.037116   \n",
       "ovrmou_Mean  ...  0.141164  0.140901 -0.024408 -0.003892 -0.037157 -0.020575   \n",
       "...          ...       ...       ...       ...       ...       ...       ...   \n",
       "adults       ... -0.001800  0.002282  0.260806  0.162654  0.366560  1.000000   \n",
       "income       ... -0.047666 -0.043265  0.037975  0.086854  0.068491  0.089325   \n",
       "numbcars     ...  0.006111  0.013237  0.027228  0.014937  0.113999  0.237031   \n",
       "forgntvl     ... -0.009672 -0.010085  0.040533  0.046756  0.072458  0.112912   \n",
       "eqpdays      ... -0.357707 -0.380732  0.043237  0.030765  0.041334  0.011267   \n",
       "\n",
       "               income  numbcars  forgntvl   eqpdays  \n",
       "rev_Mean    -0.040699  0.001509 -0.038434 -0.213402  \n",
       "mou_Mean    -0.093709  0.013006 -0.051355 -0.315322  \n",
       "totmrc_Mean -0.026211  0.004181 -0.034726 -0.247781  \n",
       "da_Mean      0.032336 -0.000643 -0.021007 -0.120649  \n",
       "ovrmou_Mean -0.030198 -0.000350 -0.026663 -0.127763  \n",
       "...               ...       ...       ...       ...  \n",
       "adults       0.089325  0.237031  0.112912  0.011267  \n",
       "income       1.000000  0.069197  0.088237  0.105680  \n",
       "numbcars     0.069197  1.000000  0.025110 -0.019281  \n",
       "forgntvl     0.088237  0.025110  1.000000  0.046153  \n",
       "eqpdays      0.105680 -0.019281  0.046153  1.000000  \n",
       "\n",
       "[77 rows x 77 columns]"
      ]
     },
     "execution_count": 19,
     "metadata": {},
     "output_type": "execute_result"
    }
   ],
   "source": [
    "data_crr = origin_data[[col for col in origin_data.columns.tolist() if col not in ['churn','Customer_ID']]].corr()\n",
    "data_crr"
   ]
  },
  {
   "cell_type": "code",
   "execution_count": 20,
   "metadata": {},
   "outputs": [
    {
     "data": {
      "image/png": "[encoded data removed]",
      "text/plain": [
       "<Figure size 432x288 with 2 Axes>"
      ]
     },
     "metadata": {
      "needs_background": "light"
     },
     "output_type": "display_data"
    }
   ],
   "source": [
    "sns.heatmap(data_crr, cmap='Blues')\n",
    "plt.savefig('热力图.jpg')\n",
    "plt.show()"
   ]
  },
  {
   "cell_type": "code",
   "execution_count": 21,
   "metadata": {},
   "outputs": [
    {
     "data": {
      "text/plain": [
       "mou_Mean        -0.057027\n",
       "totmrc_Mean     -0.068558\n",
       "comp_vce_Mean   -0.051574\n",
       "mou_cvce_Mean   -0.052042\n",
       "complete_Mean   -0.051740\n",
       "churn            1.000000\n",
       "hnd_price       -0.103184\n",
       "eqpdays          0.112691\n",
       "Name: churn, dtype: float64"
      ]
     },
     "execution_count": 21,
     "metadata": {},
     "output_type": "execute_result"
    }
   ],
   "source": [
    "data_crr = origin_data[[col for col in origin_data.columns.tolist() if col not in ['Customer_ID']]].corr()\n",
    "data_crr[abs(data_crr['churn'])>0.05]['churn']"
   ]
  },
  {
   "cell_type": "markdown",
   "metadata": {},
   "source": [
    "数据准备"
   ]
  },
  {
   "cell_type": "code",
   "execution_count": 22,
   "metadata": {},
   "outputs": [
    {
     "data": {
      "text/html": [
       "<div>\n",
       "<style scoped>\n",
       "    .dataframe tbody tr th:only-of-type {\n",
       "        vertical-align: middle;\n",
       "    }\n",
       "\n",
       "    .dataframe tbody tr th {\n",
       "        vertical-align: top;\n",
       "    }\n",
       "\n",
       "    .dataframe thead th {\n",
       "        text-align: right;\n",
       "    }\n",
       "</style>\n",
       "<table border=\"1\" class=\"dataframe\">\n",
       "  <thead>\n",
       "    <tr style=\"text-align: right;\">\n",
       "      <th></th>\n",
       "      <th>rev_Mean</th>\n",
       "      <th>mou_Mean</th>\n",
       "      <th>totmrc_Mean</th>\n",
       "      <th>da_Mean</th>\n",
       "      <th>ovrmou_Mean</th>\n",
       "      <th>ovrrev_Mean</th>\n",
       "      <th>vceovr_Mean</th>\n",
       "      <th>datovr_Mean</th>\n",
       "      <th>roam_Mean</th>\n",
       "      <th>change_mou</th>\n",
       "      <th>...</th>\n",
       "      <th>marital</th>\n",
       "      <th>forgntvl</th>\n",
       "      <th>ethnic</th>\n",
       "      <th>kid0_2</th>\n",
       "      <th>kid3_5</th>\n",
       "      <th>kid6_10</th>\n",
       "      <th>kid11_15</th>\n",
       "      <th>kid16_17</th>\n",
       "      <th>creditcd</th>\n",
       "      <th>eqpdays</th>\n",
       "    </tr>\n",
       "  </thead>\n",
       "  <tbody>\n",
       "    <tr>\n",
       "      <th>0</th>\n",
       "      <td>23.9975</td>\n",
       "      <td>219.25</td>\n",
       "      <td>22.500</td>\n",
       "      <td>0.2475</td>\n",
       "      <td>0.00</td>\n",
       "      <td>0.0</td>\n",
       "      <td>0.0</td>\n",
       "      <td>0.0</td>\n",
       "      <td>0.0</td>\n",
       "      <td>-157.25</td>\n",
       "      <td>...</td>\n",
       "      <td>S</td>\n",
       "      <td>0.0</td>\n",
       "      <td>N</td>\n",
       "      <td>U</td>\n",
       "      <td>U</td>\n",
       "      <td>U</td>\n",
       "      <td>U</td>\n",
       "      <td>U</td>\n",
       "      <td>Y</td>\n",
       "      <td>361.0</td>\n",
       "    </tr>\n",
       "    <tr>\n",
       "      <th>1</th>\n",
       "      <td>57.4925</td>\n",
       "      <td>482.75</td>\n",
       "      <td>37.425</td>\n",
       "      <td>0.2475</td>\n",
       "      <td>22.75</td>\n",
       "      <td>9.1</td>\n",
       "      <td>9.1</td>\n",
       "      <td>0.0</td>\n",
       "      <td>0.0</td>\n",
       "      <td>532.25</td>\n",
       "      <td>...</td>\n",
       "      <td>S</td>\n",
       "      <td>0.0</td>\n",
       "      <td>Z</td>\n",
       "      <td>U</td>\n",
       "      <td>U</td>\n",
       "      <td>U</td>\n",
       "      <td>U</td>\n",
       "      <td>U</td>\n",
       "      <td>Y</td>\n",
       "      <td>240.0</td>\n",
       "    </tr>\n",
       "    <tr>\n",
       "      <th>2</th>\n",
       "      <td>16.9900</td>\n",
       "      <td>10.25</td>\n",
       "      <td>16.990</td>\n",
       "      <td>0.0000</td>\n",
       "      <td>0.00</td>\n",
       "      <td>0.0</td>\n",
       "      <td>0.0</td>\n",
       "      <td>0.0</td>\n",
       "      <td>0.0</td>\n",
       "      <td>-4.25</td>\n",
       "      <td>...</td>\n",
       "      <td>M</td>\n",
       "      <td>0.0</td>\n",
       "      <td>N</td>\n",
       "      <td>U</td>\n",
       "      <td>Y</td>\n",
       "      <td>U</td>\n",
       "      <td>U</td>\n",
       "      <td>U</td>\n",
       "      <td>Y</td>\n",
       "      <td>1504.0</td>\n",
       "    </tr>\n",
       "    <tr>\n",
       "      <th>3</th>\n",
       "      <td>38.0000</td>\n",
       "      <td>7.50</td>\n",
       "      <td>38.000</td>\n",
       "      <td>0.0000</td>\n",
       "      <td>0.00</td>\n",
       "      <td>0.0</td>\n",
       "      <td>0.0</td>\n",
       "      <td>0.0</td>\n",
       "      <td>0.0</td>\n",
       "      <td>-1.50</td>\n",
       "      <td>...</td>\n",
       "      <td>M</td>\n",
       "      <td>0.0</td>\n",
       "      <td>U</td>\n",
       "      <td>Y</td>\n",
       "      <td>U</td>\n",
       "      <td>U</td>\n",
       "      <td>U</td>\n",
       "      <td>U</td>\n",
       "      <td>Y</td>\n",
       "      <td>1812.0</td>\n",
       "    </tr>\n",
       "    <tr>\n",
       "      <th>4</th>\n",
       "      <td>55.2300</td>\n",
       "      <td>570.50</td>\n",
       "      <td>71.980</td>\n",
       "      <td>0.0000</td>\n",
       "      <td>0.00</td>\n",
       "      <td>0.0</td>\n",
       "      <td>0.0</td>\n",
       "      <td>0.0</td>\n",
       "      <td>0.0</td>\n",
       "      <td>38.50</td>\n",
       "      <td>...</td>\n",
       "      <td>S</td>\n",
       "      <td>0.0</td>\n",
       "      <td>I</td>\n",
       "      <td>U</td>\n",
       "      <td>U</td>\n",
       "      <td>U</td>\n",
       "      <td>U</td>\n",
       "      <td>U</td>\n",
       "      <td>Y</td>\n",
       "      <td>434.0</td>\n",
       "    </tr>\n",
       "    <tr>\n",
       "      <th>...</th>\n",
       "      <td>...</td>\n",
       "      <td>...</td>\n",
       "      <td>...</td>\n",
       "      <td>...</td>\n",
       "      <td>...</td>\n",
       "      <td>...</td>\n",
       "      <td>...</td>\n",
       "      <td>...</td>\n",
       "      <td>...</td>\n",
       "      <td>...</td>\n",
       "      <td>...</td>\n",
       "      <td>...</td>\n",
       "      <td>...</td>\n",
       "      <td>...</td>\n",
       "      <td>...</td>\n",
       "      <td>...</td>\n",
       "      <td>...</td>\n",
       "      <td>...</td>\n",
       "      <td>...</td>\n",
       "      <td>...</td>\n",
       "      <td>...</td>\n",
       "    </tr>\n",
       "    <tr>\n",
       "      <th>99995</th>\n",
       "      <td>NaN</td>\n",
       "      <td>NaN</td>\n",
       "      <td>NaN</td>\n",
       "      <td>NaN</td>\n",
       "      <td>NaN</td>\n",
       "      <td>NaN</td>\n",
       "      <td>NaN</td>\n",
       "      <td>NaN</td>\n",
       "      <td>NaN</td>\n",
       "      <td>NaN</td>\n",
       "      <td>...</td>\n",
       "      <td>M</td>\n",
       "      <td>0.0</td>\n",
       "      <td>S</td>\n",
       "      <td>U</td>\n",
       "      <td>U</td>\n",
       "      <td>U</td>\n",
       "      <td>Y</td>\n",
       "      <td>U</td>\n",
       "      <td>Y</td>\n",
       "      <td>773.0</td>\n",
       "    </tr>\n",
       "    <tr>\n",
       "      <th>99996</th>\n",
       "      <td>NaN</td>\n",
       "      <td>NaN</td>\n",
       "      <td>NaN</td>\n",
       "      <td>NaN</td>\n",
       "      <td>NaN</td>\n",
       "      <td>NaN</td>\n",
       "      <td>NaN</td>\n",
       "      <td>NaN</td>\n",
       "      <td>NaN</td>\n",
       "      <td>NaN</td>\n",
       "      <td>...</td>\n",
       "      <td>M</td>\n",
       "      <td>0.0</td>\n",
       "      <td>N</td>\n",
       "      <td>U</td>\n",
       "      <td>U</td>\n",
       "      <td>Y</td>\n",
       "      <td>Y</td>\n",
       "      <td>Y</td>\n",
       "      <td>Y</td>\n",
       "      <td>835.0</td>\n",
       "    </tr>\n",
       "    <tr>\n",
       "      <th>99997</th>\n",
       "      <td>NaN</td>\n",
       "      <td>NaN</td>\n",
       "      <td>NaN</td>\n",
       "      <td>NaN</td>\n",
       "      <td>NaN</td>\n",
       "      <td>NaN</td>\n",
       "      <td>NaN</td>\n",
       "      <td>NaN</td>\n",
       "      <td>NaN</td>\n",
       "      <td>NaN</td>\n",
       "      <td>...</td>\n",
       "      <td>B</td>\n",
       "      <td>0.0</td>\n",
       "      <td>U</td>\n",
       "      <td>Y</td>\n",
       "      <td>Y</td>\n",
       "      <td>U</td>\n",
       "      <td>U</td>\n",
       "      <td>U</td>\n",
       "      <td>N</td>\n",
       "      <td>433.0</td>\n",
       "    </tr>\n",
       "    <tr>\n",
       "      <th>99998</th>\n",
       "      <td>NaN</td>\n",
       "      <td>NaN</td>\n",
       "      <td>NaN</td>\n",
       "      <td>NaN</td>\n",
       "      <td>NaN</td>\n",
       "      <td>NaN</td>\n",
       "      <td>NaN</td>\n",
       "      <td>NaN</td>\n",
       "      <td>NaN</td>\n",
       "      <td>NaN</td>\n",
       "      <td>...</td>\n",
       "      <td>U</td>\n",
       "      <td>0.0</td>\n",
       "      <td>S</td>\n",
       "      <td>U</td>\n",
       "      <td>U</td>\n",
       "      <td>U</td>\n",
       "      <td>U</td>\n",
       "      <td>U</td>\n",
       "      <td>N</td>\n",
       "      <td>75.0</td>\n",
       "    </tr>\n",
       "    <tr>\n",
       "      <th>99999</th>\n",
       "      <td>NaN</td>\n",
       "      <td>NaN</td>\n",
       "      <td>NaN</td>\n",
       "      <td>NaN</td>\n",
       "      <td>NaN</td>\n",
       "      <td>NaN</td>\n",
       "      <td>NaN</td>\n",
       "      <td>NaN</td>\n",
       "      <td>NaN</td>\n",
       "      <td>NaN</td>\n",
       "      <td>...</td>\n",
       "      <td>A</td>\n",
       "      <td>0.0</td>\n",
       "      <td>H</td>\n",
       "      <td>U</td>\n",
       "      <td>U</td>\n",
       "      <td>U</td>\n",
       "      <td>U</td>\n",
       "      <td>U</td>\n",
       "      <td>N</td>\n",
       "      <td>5.0</td>\n",
       "    </tr>\n",
       "  </tbody>\n",
       "</table>\n",
       "<p>100000 rows × 87 columns</p>\n",
       "</div>"
      ],
      "text/plain": [
       "       rev_Mean  mou_Mean  totmrc_Mean  da_Mean  ovrmou_Mean  ovrrev_Mean  \\\n",
       "0       23.9975    219.25       22.500   0.2475         0.00          0.0   \n",
       "1       57.4925    482.75       37.425   0.2475        22.75          9.1   \n",
       "2       16.9900     10.25       16.990   0.0000         0.00          0.0   \n",
       "3       38.0000      7.50       38.000   0.0000         0.00          0.0   \n",
       "4       55.2300    570.50       71.980   0.0000         0.00          0.0   \n",
       "...         ...       ...          ...      ...          ...          ...   \n",
       "99995       NaN       NaN          NaN      NaN          NaN          NaN   \n",
       "99996       NaN       NaN          NaN      NaN          NaN          NaN   \n",
       "99997       NaN       NaN          NaN      NaN          NaN          NaN   \n",
       "99998       NaN       NaN          NaN      NaN          NaN          NaN   \n",
       "99999       NaN       NaN          NaN      NaN          NaN          NaN   \n",
       "\n",
       "       vceovr_Mean  datovr_Mean  roam_Mean  change_mou  ...  marital  \\\n",
       "0              0.0          0.0        0.0     -157.25  ...        S   \n",
       "1              9.1          0.0        0.0      532.25  ...        S   \n",
       "2              0.0          0.0        0.0       -4.25  ...        M   \n",
       "3              0.0          0.0        0.0       -1.50  ...        M   \n",
       "4              0.0          0.0        0.0       38.50  ...        S   \n",
       "...            ...          ...        ...         ...  ...      ...   \n",
       "99995          NaN          NaN        NaN         NaN  ...        M   \n",
       "99996          NaN          NaN        NaN         NaN  ...        M   \n",
       "99997          NaN          NaN        NaN         NaN  ...        B   \n",
       "99998          NaN          NaN        NaN         NaN  ...        U   \n",
       "99999          NaN          NaN        NaN         NaN  ...        A   \n",
       "\n",
       "       forgntvl  ethnic  kid0_2  kid3_5  kid6_10  kid11_15  kid16_17  \\\n",
       "0           0.0       N       U       U        U         U         U   \n",
       "1           0.0       Z       U       U        U         U         U   \n",
       "2           0.0       N       U       Y        U         U         U   \n",
       "3           0.0       U       Y       U        U         U         U   \n",
       "4           0.0       I       U       U        U         U         U   \n",
       "...         ...     ...     ...     ...      ...       ...       ...   \n",
       "99995       0.0       S       U       U        U         Y         U   \n",
       "99996       0.0       N       U       U        Y         Y         Y   \n",
       "99997       0.0       U       Y       Y        U         U         U   \n",
       "99998       0.0       S       U       U        U         U         U   \n",
       "99999       0.0       H       U       U        U         U         U   \n",
       "\n",
       "       creditcd  eqpdays  \n",
       "0             Y    361.0  \n",
       "1             Y    240.0  \n",
       "2             Y   1504.0  \n",
       "3             Y   1812.0  \n",
       "4             Y    434.0  \n",
       "...         ...      ...  \n",
       "99995         Y    773.0  \n",
       "99996         Y    835.0  \n",
       "99997         N    433.0  \n",
       "99998         N     75.0  \n",
       "99999         N      5.0  \n",
       "\n",
       "[100000 rows x 87 columns]"
      ]
     },
     "execution_count": 22,
     "metadata": {},
     "output_type": "execute_result"
    }
   ],
   "source": [
    "# 由于特征较多，缺失值比例大于3%的特征直接剔除\n",
    "del_cols = ['ownrent','lor','dwlltype','adults','infobase','income','numbcars','HHstatin','dwllsize',\n",
    "           'prizm_social_one','hnd_webcap','churn','Customer_ID']\n",
    "target = origin_data['churn']\n",
    "df = origin_data[[col for col in origin_data.columns.tolist() if col not in del_cols]]\n",
    "df"
   ]
  },
  {
   "cell_type": "code",
   "execution_count": 23,
   "metadata": {},
   "outputs": [],
   "source": [
    "categ_cols = ['months','uniqsubs','actvsubs','new_cell','crclscod','asl_flag','area','dualband','refurb_new',\n",
    "              'ethnic','kid0_2','kid3_5','kid6_10','kid11_15','kid16_17','creditcd','marital']\n",
    "numeric_cols = [col for col in df.columns.tolist() if col not in categ_cols]"
   ]
  },
  {
   "cell_type": "code",
   "execution_count": 24,
   "metadata": {},
   "outputs": [
    {
     "name": "stdout",
     "output_type": "stream",
     "text": [
      "starting filling area...\n",
      "area  done!\n",
      "starting filling dualband...\n",
      "dualband  done!\n",
      "starting filling refurb_new...\n",
      "refurb_new  done!\n",
      "starting filling ethnic...\n",
      "ethnic  done!\n",
      "starting filling kid0_2...\n",
      "kid0_2  done!\n",
      "starting filling kid3_5...\n",
      "kid3_5  done!\n",
      "starting filling kid6_10...\n",
      "kid6_10  done!\n",
      "starting filling kid11_15...\n",
      "kid11_15  done!\n",
      "starting filling kid16_17...\n",
      "kid16_17  done!\n",
      "starting filling creditcd...\n",
      "creditcd  done!\n",
      "starting filling marital...\n",
      "marital  done!\n"
     ]
    }
   ],
   "source": [
    "# 类别变量用Unknown填充，自成一类\n",
    "for col in categ_cols:\n",
    "    if len(df[df[col].isnull()][col]) != 0:\n",
    "        print('starting filling '+col+'...')\n",
    "        df[col] = df[col].fillna('Unknown')\n",
    "        print(col+'  done!')\n",
    "        \n",
    "# 这里的填充和训练集测试集的划分无关，因此一并进行填充处理"
   ]
  },
  {
   "cell_type": "code",
   "execution_count": 25,
   "metadata": {},
   "outputs": [],
   "source": [
    "# 连续变量用lgb方法填充\n",
    "\n",
    "import lightgbm as lgb\n",
    "\n",
    "params = {\n",
    "            'boosting_type': 'gbdt',\n",
    "            'objective': 'regression',\n",
    "            'metric': {'rmse'},\n",
    "            'subsample': 0.4,\n",
    "            'subsample_freq': 1,\n",
    "            'learning_rate': 0.3,\n",
    "            'num_leaves': 40,\n",
    "            'feature_fraction': 0.75,\n",
    "            'lambda_l1': 1,\n",
    "            'lambda_l2': 1\n",
    "            }\n",
    "\n",
    "def lgb_fillna(colname):\n",
    "    \n",
    "    df_temp = df[numeric_cols]\n",
    "    te = df_temp[df_temp[colname].notnull()] # 非空的该列对应的行\n",
    "    te_X = te[[col for col in numeric_cols if col!=colname]]\n",
    "    te_Y = te[colname]\n",
    "    te_X = te_X.astype(float)\n",
    "    te_Y = te_Y.astype(float)\n",
    "    \n",
    "    tr = df_temp[df_temp[colname].isnull()]\n",
    "    tr_X = tr[[col for col in numeric_cols if col!=colname]]\n",
    "    tr_Y = tr[colname]\n",
    "    tr_X = tr_X.astype(float)\n",
    "    tr_Y = tr_Y.astype(float)\n",
    "    lgb_train = lgb.Dataset(te_X, te_Y)\n",
    "    gbm = lgb.train(params,lgb_train)\n",
    "    pr = gbm.predict(tr_X)\n",
    "    \n",
    "    # 赋值\n",
    "    df.loc[df[colname].isnull(), colname] = list(pr)"
   ]
  },
  {
   "cell_type": "code",
   "execution_count": 26,
   "metadata": {},
   "outputs": [
    {
     "name": "stdout",
     "output_type": "stream",
     "text": [
      "starting filling rev_Mean...\n",
      "rev_Mean  done!\n",
      "starting filling mou_Mean...\n",
      "mou_Mean  done!\n",
      "starting filling totmrc_Mean...\n",
      "totmrc_Mean  done!\n",
      "starting filling da_Mean...\n",
      "da_Mean  done!\n",
      "starting filling ovrmou_Mean...\n",
      "ovrmou_Mean  done!\n",
      "starting filling ovrrev_Mean...\n",
      "ovrrev_Mean  done!\n",
      "starting filling vceovr_Mean...\n",
      "vceovr_Mean  done!\n",
      "starting filling datovr_Mean...\n",
      "datovr_Mean  done!\n",
      "starting filling roam_Mean...\n",
      "roam_Mean  done!\n",
      "starting filling change_mou...\n",
      "change_mou  done!\n",
      "starting filling change_rev...\n",
      "change_rev  done!\n",
      "starting filling avg6mou...\n",
      "avg6mou  done!\n",
      "starting filling avg6qty...\n",
      "avg6qty  done!\n",
      "starting filling avg6rev...\n",
      "avg6rev  done!\n",
      "starting filling hnd_price...\n",
      "hnd_price  done!\n",
      "starting filling phones...\n",
      "phones  done!\n",
      "starting filling models...\n",
      "models  done!\n",
      "starting filling truck...\n",
      "truck  done!\n",
      "starting filling rv...\n",
      "rv  done!\n",
      "starting filling forgntvl...\n",
      "forgntvl  done!\n",
      "starting filling eqpdays...\n",
      "eqpdays  done!\n"
     ]
    }
   ],
   "source": [
    "for col in numeric_cols:\n",
    "    if len(df[df[col].isnull()][col]) != 0:\n",
    "        print('starting filling '+col+'...')\n",
    "        lgb_fillna(col)\n",
    "        print(col+'  done!')"
   ]
  },
  {
   "cell_type": "code",
   "execution_count": 27,
   "metadata": {},
   "outputs": [
    {
     "data": {
      "text/html": [
       "<div>\n",
       "<style scoped>\n",
       "    .dataframe tbody tr th:only-of-type {\n",
       "        vertical-align: middle;\n",
       "    }\n",
       "\n",
       "    .dataframe tbody tr th {\n",
       "        vertical-align: top;\n",
       "    }\n",
       "\n",
       "    .dataframe thead th {\n",
       "        text-align: right;\n",
       "    }\n",
       "</style>\n",
       "<table border=\"1\" class=\"dataframe\">\n",
       "  <thead>\n",
       "    <tr style=\"text-align: right;\">\n",
       "      <th></th>\n",
       "      <th>rev_Mean</th>\n",
       "      <th>mou_Mean</th>\n",
       "      <th>totmrc_Mean</th>\n",
       "      <th>da_Mean</th>\n",
       "      <th>ovrmou_Mean</th>\n",
       "      <th>ovrrev_Mean</th>\n",
       "      <th>vceovr_Mean</th>\n",
       "      <th>datovr_Mean</th>\n",
       "      <th>roam_Mean</th>\n",
       "      <th>change_mou</th>\n",
       "      <th>...</th>\n",
       "      <th>marital</th>\n",
       "      <th>forgntvl</th>\n",
       "      <th>ethnic</th>\n",
       "      <th>kid0_2</th>\n",
       "      <th>kid3_5</th>\n",
       "      <th>kid6_10</th>\n",
       "      <th>kid11_15</th>\n",
       "      <th>kid16_17</th>\n",
       "      <th>creditcd</th>\n",
       "      <th>eqpdays</th>\n",
       "    </tr>\n",
       "  </thead>\n",
       "  <tbody>\n",
       "    <tr>\n",
       "      <th>0</th>\n",
       "      <td>23.997500</td>\n",
       "      <td>219.250000</td>\n",
       "      <td>22.500000</td>\n",
       "      <td>0.247500</td>\n",
       "      <td>0.000000</td>\n",
       "      <td>0.000000</td>\n",
       "      <td>0.000000</td>\n",
       "      <td>0.000000</td>\n",
       "      <td>0.000000</td>\n",
       "      <td>-157.250000</td>\n",
       "      <td>...</td>\n",
       "      <td>S</td>\n",
       "      <td>0.0</td>\n",
       "      <td>N</td>\n",
       "      <td>U</td>\n",
       "      <td>U</td>\n",
       "      <td>U</td>\n",
       "      <td>U</td>\n",
       "      <td>U</td>\n",
       "      <td>Y</td>\n",
       "      <td>361.0</td>\n",
       "    </tr>\n",
       "    <tr>\n",
       "      <th>1</th>\n",
       "      <td>57.492500</td>\n",
       "      <td>482.750000</td>\n",
       "      <td>37.425000</td>\n",
       "      <td>0.247500</td>\n",
       "      <td>22.750000</td>\n",
       "      <td>9.100000</td>\n",
       "      <td>9.100000</td>\n",
       "      <td>0.000000</td>\n",
       "      <td>0.000000</td>\n",
       "      <td>532.250000</td>\n",
       "      <td>...</td>\n",
       "      <td>S</td>\n",
       "      <td>0.0</td>\n",
       "      <td>Z</td>\n",
       "      <td>U</td>\n",
       "      <td>U</td>\n",
       "      <td>U</td>\n",
       "      <td>U</td>\n",
       "      <td>U</td>\n",
       "      <td>Y</td>\n",
       "      <td>240.0</td>\n",
       "    </tr>\n",
       "    <tr>\n",
       "      <th>2</th>\n",
       "      <td>16.990000</td>\n",
       "      <td>10.250000</td>\n",
       "      <td>16.990000</td>\n",
       "      <td>0.000000</td>\n",
       "      <td>0.000000</td>\n",
       "      <td>0.000000</td>\n",
       "      <td>0.000000</td>\n",
       "      <td>0.000000</td>\n",
       "      <td>0.000000</td>\n",
       "      <td>-4.250000</td>\n",
       "      <td>...</td>\n",
       "      <td>M</td>\n",
       "      <td>0.0</td>\n",
       "      <td>N</td>\n",
       "      <td>U</td>\n",
       "      <td>Y</td>\n",
       "      <td>U</td>\n",
       "      <td>U</td>\n",
       "      <td>U</td>\n",
       "      <td>Y</td>\n",
       "      <td>1504.0</td>\n",
       "    </tr>\n",
       "    <tr>\n",
       "      <th>3</th>\n",
       "      <td>38.000000</td>\n",
       "      <td>7.500000</td>\n",
       "      <td>38.000000</td>\n",
       "      <td>0.000000</td>\n",
       "      <td>0.000000</td>\n",
       "      <td>0.000000</td>\n",
       "      <td>0.000000</td>\n",
       "      <td>0.000000</td>\n",
       "      <td>0.000000</td>\n",
       "      <td>-1.500000</td>\n",
       "      <td>...</td>\n",
       "      <td>M</td>\n",
       "      <td>0.0</td>\n",
       "      <td>U</td>\n",
       "      <td>Y</td>\n",
       "      <td>U</td>\n",
       "      <td>U</td>\n",
       "      <td>U</td>\n",
       "      <td>U</td>\n",
       "      <td>Y</td>\n",
       "      <td>1812.0</td>\n",
       "    </tr>\n",
       "    <tr>\n",
       "      <th>4</th>\n",
       "      <td>55.230000</td>\n",
       "      <td>570.500000</td>\n",
       "      <td>71.980000</td>\n",
       "      <td>0.000000</td>\n",
       "      <td>0.000000</td>\n",
       "      <td>0.000000</td>\n",
       "      <td>0.000000</td>\n",
       "      <td>0.000000</td>\n",
       "      <td>0.000000</td>\n",
       "      <td>38.500000</td>\n",
       "      <td>...</td>\n",
       "      <td>S</td>\n",
       "      <td>0.0</td>\n",
       "      <td>I</td>\n",
       "      <td>U</td>\n",
       "      <td>U</td>\n",
       "      <td>U</td>\n",
       "      <td>U</td>\n",
       "      <td>U</td>\n",
       "      <td>Y</td>\n",
       "      <td>434.0</td>\n",
       "    </tr>\n",
       "    <tr>\n",
       "      <th>...</th>\n",
       "      <td>...</td>\n",
       "      <td>...</td>\n",
       "      <td>...</td>\n",
       "      <td>...</td>\n",
       "      <td>...</td>\n",
       "      <td>...</td>\n",
       "      <td>...</td>\n",
       "      <td>...</td>\n",
       "      <td>...</td>\n",
       "      <td>...</td>\n",
       "      <td>...</td>\n",
       "      <td>...</td>\n",
       "      <td>...</td>\n",
       "      <td>...</td>\n",
       "      <td>...</td>\n",
       "      <td>...</td>\n",
       "      <td>...</td>\n",
       "      <td>...</td>\n",
       "      <td>...</td>\n",
       "      <td>...</td>\n",
       "      <td>...</td>\n",
       "    </tr>\n",
       "    <tr>\n",
       "      <th>99995</th>\n",
       "      <td>4.759148</td>\n",
       "      <td>121.999310</td>\n",
       "      <td>3.293338</td>\n",
       "      <td>0.184179</td>\n",
       "      <td>1.797537</td>\n",
       "      <td>0.119844</td>\n",
       "      <td>-0.364468</td>\n",
       "      <td>0.047131</td>\n",
       "      <td>-0.921200</td>\n",
       "      <td>-123.090877</td>\n",
       "      <td>...</td>\n",
       "      <td>M</td>\n",
       "      <td>0.0</td>\n",
       "      <td>S</td>\n",
       "      <td>U</td>\n",
       "      <td>U</td>\n",
       "      <td>U</td>\n",
       "      <td>Y</td>\n",
       "      <td>U</td>\n",
       "      <td>Y</td>\n",
       "      <td>773.0</td>\n",
       "    </tr>\n",
       "    <tr>\n",
       "      <th>99996</th>\n",
       "      <td>17.010609</td>\n",
       "      <td>377.778818</td>\n",
       "      <td>18.036193</td>\n",
       "      <td>0.786393</td>\n",
       "      <td>1.797537</td>\n",
       "      <td>0.105727</td>\n",
       "      <td>-0.364468</td>\n",
       "      <td>0.047131</td>\n",
       "      <td>-4.752467</td>\n",
       "      <td>-19.924987</td>\n",
       "      <td>...</td>\n",
       "      <td>M</td>\n",
       "      <td>0.0</td>\n",
       "      <td>N</td>\n",
       "      <td>U</td>\n",
       "      <td>U</td>\n",
       "      <td>Y</td>\n",
       "      <td>Y</td>\n",
       "      <td>Y</td>\n",
       "      <td>Y</td>\n",
       "      <td>835.0</td>\n",
       "    </tr>\n",
       "    <tr>\n",
       "      <th>99997</th>\n",
       "      <td>3.346619</td>\n",
       "      <td>210.887722</td>\n",
       "      <td>3.146813</td>\n",
       "      <td>0.233533</td>\n",
       "      <td>1.797537</td>\n",
       "      <td>0.105727</td>\n",
       "      <td>-0.090344</td>\n",
       "      <td>0.055458</td>\n",
       "      <td>1.486890</td>\n",
       "      <td>-354.436891</td>\n",
       "      <td>...</td>\n",
       "      <td>B</td>\n",
       "      <td>0.0</td>\n",
       "      <td>U</td>\n",
       "      <td>Y</td>\n",
       "      <td>Y</td>\n",
       "      <td>U</td>\n",
       "      <td>U</td>\n",
       "      <td>U</td>\n",
       "      <td>N</td>\n",
       "      <td>433.0</td>\n",
       "    </tr>\n",
       "    <tr>\n",
       "      <th>99998</th>\n",
       "      <td>86.460559</td>\n",
       "      <td>556.754584</td>\n",
       "      <td>82.807359</td>\n",
       "      <td>1.688719</td>\n",
       "      <td>-1.176898</td>\n",
       "      <td>-0.297388</td>\n",
       "      <td>0.300239</td>\n",
       "      <td>1.020286</td>\n",
       "      <td>0.507658</td>\n",
       "      <td>-391.804407</td>\n",
       "      <td>...</td>\n",
       "      <td>U</td>\n",
       "      <td>0.0</td>\n",
       "      <td>S</td>\n",
       "      <td>U</td>\n",
       "      <td>U</td>\n",
       "      <td>U</td>\n",
       "      <td>U</td>\n",
       "      <td>U</td>\n",
       "      <td>N</td>\n",
       "      <td>75.0</td>\n",
       "    </tr>\n",
       "    <tr>\n",
       "      <th>99999</th>\n",
       "      <td>20.127424</td>\n",
       "      <td>225.673816</td>\n",
       "      <td>23.129443</td>\n",
       "      <td>0.785915</td>\n",
       "      <td>-0.581050</td>\n",
       "      <td>-0.024476</td>\n",
       "      <td>-0.074244</td>\n",
       "      <td>-0.002913</td>\n",
       "      <td>0.026159</td>\n",
       "      <td>267.502882</td>\n",
       "      <td>...</td>\n",
       "      <td>A</td>\n",
       "      <td>0.0</td>\n",
       "      <td>H</td>\n",
       "      <td>U</td>\n",
       "      <td>U</td>\n",
       "      <td>U</td>\n",
       "      <td>U</td>\n",
       "      <td>U</td>\n",
       "      <td>N</td>\n",
       "      <td>5.0</td>\n",
       "    </tr>\n",
       "  </tbody>\n",
       "</table>\n",
       "<p>100000 rows × 87 columns</p>\n",
       "</div>"
      ],
      "text/plain": [
       "        rev_Mean    mou_Mean  totmrc_Mean   da_Mean  ovrmou_Mean  ovrrev_Mean  \\\n",
       "0      23.997500  219.250000    22.500000  0.247500     0.000000     0.000000   \n",
       "1      57.492500  482.750000    37.425000  0.247500    22.750000     9.100000   \n",
       "2      16.990000   10.250000    16.990000  0.000000     0.000000     0.000000   \n",
       "3      38.000000    7.500000    38.000000  0.000000     0.000000     0.000000   \n",
       "4      55.230000  570.500000    71.980000  0.000000     0.000000     0.000000   \n",
       "...          ...         ...          ...       ...          ...          ...   \n",
       "99995   4.759148  121.999310     3.293338  0.184179     1.797537     0.119844   \n",
       "99996  17.010609  377.778818    18.036193  0.786393     1.797537     0.105727   \n",
       "99997   3.346619  210.887722     3.146813  0.233533     1.797537     0.105727   \n",
       "99998  86.460559  556.754584    82.807359  1.688719    -1.176898    -0.297388   \n",
       "99999  20.127424  225.673816    23.129443  0.785915    -0.581050    -0.024476   \n",
       "\n",
       "       vceovr_Mean  datovr_Mean  roam_Mean  change_mou  ...  marital  \\\n",
       "0         0.000000     0.000000   0.000000 -157.250000  ...        S   \n",
       "1         9.100000     0.000000   0.000000  532.250000  ...        S   \n",
       "2         0.000000     0.000000   0.000000   -4.250000  ...        M   \n",
       "3         0.000000     0.000000   0.000000   -1.500000  ...        M   \n",
       "4         0.000000     0.000000   0.000000   38.500000  ...        S   \n",
       "...            ...          ...        ...         ...  ...      ...   \n",
       "99995    -0.364468     0.047131  -0.921200 -123.090877  ...        M   \n",
       "99996    -0.364468     0.047131  -4.752467  -19.924987  ...        M   \n",
       "99997    -0.090344     0.055458   1.486890 -354.436891  ...        B   \n",
       "99998     0.300239     1.020286   0.507658 -391.804407  ...        U   \n",
       "99999    -0.074244    -0.002913   0.026159  267.502882  ...        A   \n",
       "\n",
       "       forgntvl  ethnic  kid0_2  kid3_5  kid6_10  kid11_15  kid16_17  \\\n",
       "0           0.0       N       U       U        U         U         U   \n",
       "1           0.0       Z       U       U        U         U         U   \n",
       "2           0.0       N       U       Y        U         U         U   \n",
       "3           0.0       U       Y       U        U         U         U   \n",
       "4           0.0       I       U       U        U         U         U   \n",
       "...         ...     ...     ...     ...      ...       ...       ...   \n",
       "99995       0.0       S       U       U        U         Y         U   \n",
       "99996       0.0       N       U       U        Y         Y         Y   \n",
       "99997       0.0       U       Y       Y        U         U         U   \n",
       "99998       0.0       S       U       U        U         U         U   \n",
       "99999       0.0       H       U       U        U         U         U   \n",
       "\n",
       "       creditcd  eqpdays  \n",
       "0             Y    361.0  \n",
       "1             Y    240.0  \n",
       "2             Y   1504.0  \n",
       "3             Y   1812.0  \n",
       "4             Y    434.0  \n",
       "...         ...      ...  \n",
       "99995         Y    773.0  \n",
       "99996         Y    835.0  \n",
       "99997         N    433.0  \n",
       "99998         N     75.0  \n",
       "99999         N      5.0  \n",
       "\n",
       "[100000 rows x 87 columns]"
      ]
     },
     "execution_count": 27,
     "metadata": {},
     "output_type": "execute_result"
    }
   ],
   "source": [
    "# 缺失值填充完成\n",
    "df"
   ]
  },
  {
   "cell_type": "code",
   "execution_count": 28,
   "metadata": {},
   "outputs": [],
   "source": [
    "# labelencoder编码\n",
    "from sklearn.preprocessing import LabelEncoder\n",
    "le = LabelEncoder()\n",
    "for col in categ_cols:\n",
    "    df[col] = le.fit_transform(df[col])"
   ]
  },
  {
   "cell_type": "code",
   "execution_count": 29,
   "metadata": {},
   "outputs": [
    {
     "data": {
      "text/html": [
       "<div>\n",
       "<style scoped>\n",
       "    .dataframe tbody tr th:only-of-type {\n",
       "        vertical-align: middle;\n",
       "    }\n",
       "\n",
       "    .dataframe tbody tr th {\n",
       "        vertical-align: top;\n",
       "    }\n",
       "\n",
       "    .dataframe thead th {\n",
       "        text-align: right;\n",
       "    }\n",
       "</style>\n",
       "<table border=\"1\" class=\"dataframe\">\n",
       "  <thead>\n",
       "    <tr style=\"text-align: right;\">\n",
       "      <th></th>\n",
       "      <th>rev_Mean</th>\n",
       "      <th>mou_Mean</th>\n",
       "      <th>totmrc_Mean</th>\n",
       "      <th>da_Mean</th>\n",
       "      <th>ovrmou_Mean</th>\n",
       "      <th>ovrrev_Mean</th>\n",
       "      <th>vceovr_Mean</th>\n",
       "      <th>datovr_Mean</th>\n",
       "      <th>roam_Mean</th>\n",
       "      <th>change_mou</th>\n",
       "      <th>...</th>\n",
       "      <th>marital</th>\n",
       "      <th>forgntvl</th>\n",
       "      <th>ethnic</th>\n",
       "      <th>kid0_2</th>\n",
       "      <th>kid3_5</th>\n",
       "      <th>kid6_10</th>\n",
       "      <th>kid11_15</th>\n",
       "      <th>kid16_17</th>\n",
       "      <th>creditcd</th>\n",
       "      <th>eqpdays</th>\n",
       "    </tr>\n",
       "  </thead>\n",
       "  <tbody>\n",
       "    <tr>\n",
       "      <th>0</th>\n",
       "      <td>23.997500</td>\n",
       "      <td>219.250000</td>\n",
       "      <td>22.500000</td>\n",
       "      <td>0.247500</td>\n",
       "      <td>0.000000</td>\n",
       "      <td>0.000000</td>\n",
       "      <td>0.000000</td>\n",
       "      <td>0.000000</td>\n",
       "      <td>0.000000</td>\n",
       "      <td>-157.250000</td>\n",
       "      <td>...</td>\n",
       "      <td>3</td>\n",
       "      <td>0.0</td>\n",
       "      <td>9</td>\n",
       "      <td>0</td>\n",
       "      <td>0</td>\n",
       "      <td>0</td>\n",
       "      <td>0</td>\n",
       "      <td>0</td>\n",
       "      <td>2</td>\n",
       "      <td>361.0</td>\n",
       "    </tr>\n",
       "    <tr>\n",
       "      <th>1</th>\n",
       "      <td>57.492500</td>\n",
       "      <td>482.750000</td>\n",
       "      <td>37.425000</td>\n",
       "      <td>0.247500</td>\n",
       "      <td>22.750000</td>\n",
       "      <td>9.100000</td>\n",
       "      <td>9.100000</td>\n",
       "      <td>0.000000</td>\n",
       "      <td>0.000000</td>\n",
       "      <td>532.250000</td>\n",
       "      <td>...</td>\n",
       "      <td>3</td>\n",
       "      <td>0.0</td>\n",
       "      <td>17</td>\n",
       "      <td>0</td>\n",
       "      <td>0</td>\n",
       "      <td>0</td>\n",
       "      <td>0</td>\n",
       "      <td>0</td>\n",
       "      <td>2</td>\n",
       "      <td>240.0</td>\n",
       "    </tr>\n",
       "    <tr>\n",
       "      <th>2</th>\n",
       "      <td>16.990000</td>\n",
       "      <td>10.250000</td>\n",
       "      <td>16.990000</td>\n",
       "      <td>0.000000</td>\n",
       "      <td>0.000000</td>\n",
       "      <td>0.000000</td>\n",
       "      <td>0.000000</td>\n",
       "      <td>0.000000</td>\n",
       "      <td>0.000000</td>\n",
       "      <td>-4.250000</td>\n",
       "      <td>...</td>\n",
       "      <td>2</td>\n",
       "      <td>0.0</td>\n",
       "      <td>9</td>\n",
       "      <td>0</td>\n",
       "      <td>2</td>\n",
       "      <td>0</td>\n",
       "      <td>0</td>\n",
       "      <td>0</td>\n",
       "      <td>2</td>\n",
       "      <td>1504.0</td>\n",
       "    </tr>\n",
       "    <tr>\n",
       "      <th>3</th>\n",
       "      <td>38.000000</td>\n",
       "      <td>7.500000</td>\n",
       "      <td>38.000000</td>\n",
       "      <td>0.000000</td>\n",
       "      <td>0.000000</td>\n",
       "      <td>0.000000</td>\n",
       "      <td>0.000000</td>\n",
       "      <td>0.000000</td>\n",
       "      <td>0.000000</td>\n",
       "      <td>-1.500000</td>\n",
       "      <td>...</td>\n",
       "      <td>2</td>\n",
       "      <td>0.0</td>\n",
       "      <td>14</td>\n",
       "      <td>2</td>\n",
       "      <td>0</td>\n",
       "      <td>0</td>\n",
       "      <td>0</td>\n",
       "      <td>0</td>\n",
       "      <td>2</td>\n",
       "      <td>1812.0</td>\n",
       "    </tr>\n",
       "    <tr>\n",
       "      <th>4</th>\n",
       "      <td>55.230000</td>\n",
       "      <td>570.500000</td>\n",
       "      <td>71.980000</td>\n",
       "      <td>0.000000</td>\n",
       "      <td>0.000000</td>\n",
       "      <td>0.000000</td>\n",
       "      <td>0.000000</td>\n",
       "      <td>0.000000</td>\n",
       "      <td>0.000000</td>\n",
       "      <td>38.500000</td>\n",
       "      <td>...</td>\n",
       "      <td>3</td>\n",
       "      <td>0.0</td>\n",
       "      <td>6</td>\n",
       "      <td>0</td>\n",
       "      <td>0</td>\n",
       "      <td>0</td>\n",
       "      <td>0</td>\n",
       "      <td>0</td>\n",
       "      <td>2</td>\n",
       "      <td>434.0</td>\n",
       "    </tr>\n",
       "    <tr>\n",
       "      <th>...</th>\n",
       "      <td>...</td>\n",
       "      <td>...</td>\n",
       "      <td>...</td>\n",
       "      <td>...</td>\n",
       "      <td>...</td>\n",
       "      <td>...</td>\n",
       "      <td>...</td>\n",
       "      <td>...</td>\n",
       "      <td>...</td>\n",
       "      <td>...</td>\n",
       "      <td>...</td>\n",
       "      <td>...</td>\n",
       "      <td>...</td>\n",
       "      <td>...</td>\n",
       "      <td>...</td>\n",
       "      <td>...</td>\n",
       "      <td>...</td>\n",
       "      <td>...</td>\n",
       "      <td>...</td>\n",
       "      <td>...</td>\n",
       "      <td>...</td>\n",
       "    </tr>\n",
       "    <tr>\n",
       "      <th>99995</th>\n",
       "      <td>4.759148</td>\n",
       "      <td>121.999310</td>\n",
       "      <td>3.293338</td>\n",
       "      <td>0.184179</td>\n",
       "      <td>1.797537</td>\n",
       "      <td>0.119844</td>\n",
       "      <td>-0.364468</td>\n",
       "      <td>0.047131</td>\n",
       "      <td>-0.921200</td>\n",
       "      <td>-123.090877</td>\n",
       "      <td>...</td>\n",
       "      <td>2</td>\n",
       "      <td>0.0</td>\n",
       "      <td>13</td>\n",
       "      <td>0</td>\n",
       "      <td>0</td>\n",
       "      <td>0</td>\n",
       "      <td>2</td>\n",
       "      <td>0</td>\n",
       "      <td>2</td>\n",
       "      <td>773.0</td>\n",
       "    </tr>\n",
       "    <tr>\n",
       "      <th>99996</th>\n",
       "      <td>17.010609</td>\n",
       "      <td>377.778818</td>\n",
       "      <td>18.036193</td>\n",
       "      <td>0.786393</td>\n",
       "      <td>1.797537</td>\n",
       "      <td>0.105727</td>\n",
       "      <td>-0.364468</td>\n",
       "      <td>0.047131</td>\n",
       "      <td>-4.752467</td>\n",
       "      <td>-19.924987</td>\n",
       "      <td>...</td>\n",
       "      <td>2</td>\n",
       "      <td>0.0</td>\n",
       "      <td>9</td>\n",
       "      <td>0</td>\n",
       "      <td>0</td>\n",
       "      <td>2</td>\n",
       "      <td>2</td>\n",
       "      <td>2</td>\n",
       "      <td>2</td>\n",
       "      <td>835.0</td>\n",
       "    </tr>\n",
       "    <tr>\n",
       "      <th>99997</th>\n",
       "      <td>3.346619</td>\n",
       "      <td>210.887722</td>\n",
       "      <td>3.146813</td>\n",
       "      <td>0.233533</td>\n",
       "      <td>1.797537</td>\n",
       "      <td>0.105727</td>\n",
       "      <td>-0.090344</td>\n",
       "      <td>0.055458</td>\n",
       "      <td>1.486890</td>\n",
       "      <td>-354.436891</td>\n",
       "      <td>...</td>\n",
       "      <td>1</td>\n",
       "      <td>0.0</td>\n",
       "      <td>14</td>\n",
       "      <td>2</td>\n",
       "      <td>2</td>\n",
       "      <td>0</td>\n",
       "      <td>0</td>\n",
       "      <td>0</td>\n",
       "      <td>0</td>\n",
       "      <td>433.0</td>\n",
       "    </tr>\n",
       "    <tr>\n",
       "      <th>99998</th>\n",
       "      <td>86.460559</td>\n",
       "      <td>556.754584</td>\n",
       "      <td>82.807359</td>\n",
       "      <td>1.688719</td>\n",
       "      <td>-1.176898</td>\n",
       "      <td>-0.297388</td>\n",
       "      <td>0.300239</td>\n",
       "      <td>1.020286</td>\n",
       "      <td>0.507658</td>\n",
       "      <td>-391.804407</td>\n",
       "      <td>...</td>\n",
       "      <td>4</td>\n",
       "      <td>0.0</td>\n",
       "      <td>13</td>\n",
       "      <td>0</td>\n",
       "      <td>0</td>\n",
       "      <td>0</td>\n",
       "      <td>0</td>\n",
       "      <td>0</td>\n",
       "      <td>0</td>\n",
       "      <td>75.0</td>\n",
       "    </tr>\n",
       "    <tr>\n",
       "      <th>99999</th>\n",
       "      <td>20.127424</td>\n",
       "      <td>225.673816</td>\n",
       "      <td>23.129443</td>\n",
       "      <td>0.785915</td>\n",
       "      <td>-0.581050</td>\n",
       "      <td>-0.024476</td>\n",
       "      <td>-0.074244</td>\n",
       "      <td>-0.002913</td>\n",
       "      <td>0.026159</td>\n",
       "      <td>267.502882</td>\n",
       "      <td>...</td>\n",
       "      <td>0</td>\n",
       "      <td>0.0</td>\n",
       "      <td>5</td>\n",
       "      <td>0</td>\n",
       "      <td>0</td>\n",
       "      <td>0</td>\n",
       "      <td>0</td>\n",
       "      <td>0</td>\n",
       "      <td>0</td>\n",
       "      <td>5.0</td>\n",
       "    </tr>\n",
       "  </tbody>\n",
       "</table>\n",
       "<p>100000 rows × 87 columns</p>\n",
       "</div>"
      ],
      "text/plain": [
       "        rev_Mean    mou_Mean  totmrc_Mean   da_Mean  ovrmou_Mean  ovrrev_Mean  \\\n",
       "0      23.997500  219.250000    22.500000  0.247500     0.000000     0.000000   \n",
       "1      57.492500  482.750000    37.425000  0.247500    22.750000     9.100000   \n",
       "2      16.990000   10.250000    16.990000  0.000000     0.000000     0.000000   \n",
       "3      38.000000    7.500000    38.000000  0.000000     0.000000     0.000000   \n",
       "4      55.230000  570.500000    71.980000  0.000000     0.000000     0.000000   \n",
       "...          ...         ...          ...       ...          ...          ...   \n",
       "99995   4.759148  121.999310     3.293338  0.184179     1.797537     0.119844   \n",
       "99996  17.010609  377.778818    18.036193  0.786393     1.797537     0.105727   \n",
       "99997   3.346619  210.887722     3.146813  0.233533     1.797537     0.105727   \n",
       "99998  86.460559  556.754584    82.807359  1.688719    -1.176898    -0.297388   \n",
       "99999  20.127424  225.673816    23.129443  0.785915    -0.581050    -0.024476   \n",
       "\n",
       "       vceovr_Mean  datovr_Mean  roam_Mean  change_mou  ...  marital  \\\n",
       "0         0.000000     0.000000   0.000000 -157.250000  ...        3   \n",
       "1         9.100000     0.000000   0.000000  532.250000  ...        3   \n",
       "2         0.000000     0.000000   0.000000   -4.250000  ...        2   \n",
       "3         0.000000     0.000000   0.000000   -1.500000  ...        2   \n",
       "4         0.000000     0.000000   0.000000   38.500000  ...        3   \n",
       "...            ...          ...        ...         ...  ...      ...   \n",
       "99995    -0.364468     0.047131  -0.921200 -123.090877  ...        2   \n",
       "99996    -0.364468     0.047131  -4.752467  -19.924987  ...        2   \n",
       "99997    -0.090344     0.055458   1.486890 -354.436891  ...        1   \n",
       "99998     0.300239     1.020286   0.507658 -391.804407  ...        4   \n",
       "99999    -0.074244    -0.002913   0.026159  267.502882  ...        0   \n",
       "\n",
       "       forgntvl  ethnic  kid0_2  kid3_5  kid6_10  kid11_15  kid16_17  \\\n",
       "0           0.0       9       0       0        0         0         0   \n",
       "1           0.0      17       0       0        0         0         0   \n",
       "2           0.0       9       0       2        0         0         0   \n",
       "3           0.0      14       2       0        0         0         0   \n",
       "4           0.0       6       0       0        0         0         0   \n",
       "...         ...     ...     ...     ...      ...       ...       ...   \n",
       "99995       0.0      13       0       0        0         2         0   \n",
       "99996       0.0       9       0       0        2         2         2   \n",
       "99997       0.0      14       2       2        0         0         0   \n",
       "99998       0.0      13       0       0        0         0         0   \n",
       "99999       0.0       5       0       0        0         0         0   \n",
       "\n",
       "       creditcd  eqpdays  \n",
       "0             2    361.0  \n",
       "1             2    240.0  \n",
       "2             2   1504.0  \n",
       "3             2   1812.0  \n",
       "4             2    434.0  \n",
       "...         ...      ...  \n",
       "99995         2    773.0  \n",
       "99996         2    835.0  \n",
       "99997         0    433.0  \n",
       "99998         0     75.0  \n",
       "99999         0      5.0  \n",
       "\n",
       "[100000 rows x 87 columns]"
      ]
     },
     "execution_count": 29,
     "metadata": {},
     "output_type": "execute_result"
    }
   ],
   "source": [
    "# 编码完成\n",
    "df"
   ]
  },
  {
   "cell_type": "code",
   "execution_count": 30,
   "metadata": {},
   "outputs": [
    {
     "name": "stdout",
     "output_type": "stream",
     "text": [
      "(70000, 87)\n",
      "(30000, 87)\n",
      "(70000,)\n",
      "(30000,)\n"
     ]
    }
   ],
   "source": [
    "# 训练集测试集的划分\n",
    "from sklearn.model_selection import train_test_split\n",
    "x_train, x_test, y_train, y_test = train_test_split(df, target, test_size = 0.3)\n",
    "print(x_train.shape)\n",
    "print(x_test.shape)\n",
    "print(y_train.shape)\n",
    "print(y_test.shape)"
   ]
  },
  {
   "cell_type": "code",
   "execution_count": 31,
   "metadata": {},
   "outputs": [
    {
     "data": {
      "text/plain": [
       "KMeans(algorithm='auto', copy_x=True, init='k-means++', max_iter=300,\n",
       "       n_clusters=10, n_init=10, n_jobs=None, precompute_distances='auto',\n",
       "       random_state=None, tol=0.0001, verbose=0)"
      ]
     },
     "execution_count": 31,
     "metadata": {},
     "output_type": "execute_result"
    }
   ],
   "source": [
    "# 特征聚类\n",
    "from sklearn.cluster import KMeans\n",
    "estimator = KMeans(n_clusters=10)\n",
    "estimator.fit(x_train[numeric_cols].T)"
   ]
  },
  {
   "cell_type": "code",
   "execution_count": 32,
   "metadata": {},
   "outputs": [
    {
     "data": {
      "text/plain": [
       "array([7, 4, 7, 7, 7, 7, 7, 7, 7, 0, 7, 7, 7, 7, 7, 7, 7, 5, 7, 7, 7, 5,\n",
       "       7, 7, 7, 7, 7, 7, 9, 7, 5, 7, 7, 7, 7, 5, 7, 5, 7, 7, 7, 9, 7, 7,\n",
       "       5, 5, 7, 7, 2, 1, 3, 3, 1, 2, 7, 8, 5, 4, 5, 7, 4, 5, 7, 7, 7, 7,\n",
       "       7, 7, 7, 6])"
      ]
     },
     "execution_count": 32,
     "metadata": {},
     "output_type": "execute_result"
    }
   ],
   "source": [
    "estimator.labels_"
   ]
  },
  {
   "cell_type": "markdown",
   "metadata": {},
   "source": [
    "神经网络模型建立"
   ]
  },
  {
   "cell_type": "code",
   "execution_count": 33,
   "metadata": {},
   "outputs": [],
   "source": [
    "kmeans_cols = ['rev_Mean', 'totmou', 'totcalls', 'avg3mou', 'totrev', 'mou_cvce_Mean', 'avg3qty', 'eqpdays', 'change_mou', 'adjmou']\n",
    "x_nn_train = x_train[kmeans_cols+categ_cols]\n",
    "y_nn_train = y_train\n",
    "x_nn_test = x_test[kmeans_cols+categ_cols]\n",
    "y_nn_test = y_test"
   ]
  },
  {
   "cell_type": "code",
   "execution_count": 34,
   "metadata": {},
   "outputs": [
    {
     "data": {
      "text/plain": [
       "(70000, 27)"
      ]
     },
     "execution_count": 34,
     "metadata": {},
     "output_type": "execute_result"
    }
   ],
   "source": [
    "x_nn_train.shape"
   ]
  },
  {
   "cell_type": "code",
   "execution_count": 35,
   "metadata": {},
   "outputs": [
    {
     "name": "stdout",
     "output_type": "stream",
     "text": [
      "epoch =  0\n",
      "step:0, total_cross entropy=11.6379\n",
      "step:1000, total_cross entropy=10.4478\n",
      "step:2000, total_cross entropy=5.58524\n",
      "step:3000, total_cross entropy=3.01384\n",
      "step:4000, total_cross entropy=2.59856\n",
      "epoch =  1\n",
      "step:0, total_cross entropy=2.10252\n",
      "step:1000, total_cross entropy=1.15642\n",
      "step:2000, total_cross entropy=0.906063\n",
      "step:3000, total_cross entropy=1.43948\n",
      "step:4000, total_cross entropy=0.838347\n",
      "epoch =  2\n",
      "step:0, total_cross entropy=0.73719\n",
      "step:1000, total_cross entropy=0.763909\n",
      "step:2000, total_cross entropy=0.837649\n",
      "step:3000, total_cross entropy=0.76089\n",
      "step:4000, total_cross entropy=0.845251\n",
      "epoch =  3\n",
      "step:0, total_cross entropy=0.931107\n",
      "step:1000, total_cross entropy=0.789842\n",
      "step:2000, total_cross entropy=2.11688\n",
      "step:3000, total_cross entropy=0.764718\n",
      "step:4000, total_cross entropy=0.98549\n",
      "Wall time: 40.5 s\n"
     ]
    }
   ],
   "source": [
    "%%time\n",
    "\n",
    "import tensorflow as tf\n",
    "\n",
    "num_classes = 1 # 输出大小\n",
    "input_size = 27 # 输入大小\n",
    "hidden_units_size = 10 # 隐藏层节点个数\n",
    "\n",
    "learning_rate = 0.001 # 学习率\n",
    "scale = 0.01 # 正则化系数值\n",
    "epoches = 4\n",
    "batch_size = 100 # 批大小\n",
    "training_iterations = 5000 # 迭代次数\n",
    "\n",
    "X = tf.placeholder(tf.float32, shape=[None, input_size])\n",
    "Y = tf.placeholder(tf.float32, shape=[None, num_classes])\n",
    "\n",
    "W1 = tf.Variable(tf.random_normal([input_size, hidden_units_size], stddev=0.33))\n",
    "B1 = tf.Variable(tf.random_normal([hidden_units_size], stddev=0.33))\n",
    "W2 = tf.Variable(tf.random_normal([hidden_units_size, num_classes], stddev=0.33))\n",
    "B2 = tf.Variable(tf.random_normal([num_classes], stddev=0.33))\n",
    "\n",
    "hidden_opt = tf.nn.relu(tf.matmul(X, W1)+B1) # 输入层到隐藏层正向传播\n",
    "final_opt = tf.nn.sigmoid(tf.matmul(hidden_opt, W2)+B2) # 隐藏层到输出层正向传播\n",
    "\n",
    "# 添加正则项\n",
    "tf.add_to_collection(tf.GraphKeys.WEIGHTS, W1)\n",
    "tf.add_to_collection(tf.GraphKeys.WEIGHTS, B1)\n",
    "tf.add_to_collection(tf.GraphKeys.WEIGHTS, W2)\n",
    "tf.add_to_collection(tf.GraphKeys.WEIGHTS, B2)\n",
    "regularizer = tf.contrib.layers.l2_regularizer(scale)\n",
    "reg_term = tf.contrib.layers.apply_regularization(regularizer)\n",
    "# 对输出层计算交叉熵损失\n",
    "loss = -tf.reduce_mean(Y*tf.log(tf.clip_by_value(final_opt,1e-10,1.0))+(1-Y)*tf.log(tf.clip_by_value(1-final_opt,1e-10,1.0)))+reg_term\n",
    "# 梯度下降算法，这里使用反向传播算法用于修改权重，减小损失\n",
    "opt = tf.train.AdamOptimizer(learning_rate).minimize(loss)\n",
    "# 初始化变量\n",
    "init = tf.global_variables_initializer()\n",
    "\n",
    "# 创建会话运行Tensorflow程序\n",
    "sess = tf.Session()\n",
    "sess.run(init)\n",
    "for epoch in range(epoches):\n",
    "    print(\"epoch = \", epoch)\n",
    "    for i in range(training_iterations):\n",
    "        # 每次选取batch_size个样本进行训练\n",
    "        start = (i*batch_size)%70000\n",
    "        end = min(start+batch_size, 70000)\n",
    "        batch_input = x_nn_train[start:end]\n",
    "        batch_labels = np.array(y_nn_train[start:end]).reshape(batch_size,1)\n",
    "        # 训练\n",
    "        training_loss = sess.run([opt, loss], feed_dict={X:batch_input, Y:batch_labels})\n",
    "        if i % 1000 == 0:\n",
    "            total_cross_entropy = sess.run(loss, feed_dict={X:x_nn_train, Y:np.array(y_nn_train).reshape(70000,1)})\n",
    "            print(\"step:%d, total_cross entropy=%g\"%(i, total_cross_entropy))"
   ]
  },
  {
   "cell_type": "code",
   "execution_count": 36,
   "metadata": {},
   "outputs": [
    {
     "data": {
      "text/plain": [
       "array([[0.6019561 ],\n",
       "       [0.84185857],\n",
       "       [0.63349366],\n",
       "       ...,\n",
       "       [0.5665479 ],\n",
       "       [0.63345635],\n",
       "       [0.60503256]], dtype=float32)"
      ]
     },
     "execution_count": 36,
     "metadata": {},
     "output_type": "execute_result"
    }
   ],
   "source": [
    "sess.run(final_opt, feed_dict={X:x_nn_test})"
   ]
  },
  {
   "cell_type": "markdown",
   "metadata": {},
   "source": [
    "测试集评估"
   ]
  },
  {
   "cell_type": "code",
   "execution_count": 37,
   "metadata": {},
   "outputs": [
    {
     "name": "stdout",
     "output_type": "stream",
     "text": [
      "Precision 0.5034436947173373\n",
      "Recall 0.9628886659979939\n",
      "f1_score 0.6611873823407869\n",
      "confusion_matrix\n",
      "[[  842 14203]\n",
      " [  555 14400]]\n"
     ]
    },
    {
     "data": {
      "image/png": "[encoded data removed]",
      "text/plain": [
       "<Figure size 432x288 with 1 Axes>"
      ]
     },
     "metadata": {
      "needs_background": "light"
     },
     "output_type": "display_data"
    }
   ],
   "source": [
    "# 对输出层计算各项分类评价指标\n",
    "from sklearn import metrics\n",
    "\n",
    "pred_Y = sess.run(final_opt, feed_dict={X:x_nn_test})\n",
    "for i in range(len(pred_Y)):\n",
    "    if pred_Y[i]>=0.4:\n",
    "        pred_Y[i] = 1\n",
    "    else:\n",
    "        pred_Y[i] = 0       \n",
    "\n",
    "def eva(y_test, pred_Y):\n",
    "    print(\"Precision\", metrics.precision_score(y_test, pred_Y))\n",
    "    print(\"Recall\", metrics.recall_score(y_test, pred_Y))\n",
    "    print(\"f1_score\", metrics.f1_score(y_test, pred_Y))\n",
    "    print(\"confusion_matrix\")\n",
    "    print(metrics.confusion_matrix(y_test, pred_Y))\n",
    "    fpr, tpr, tresholds = metrics.roc_curve(y_test, pred_Y)\n",
    "    plt.plot(fpr, tpr)\n",
    "    \n",
    "eva(y_nn_test, pred_Y)"
   ]
  },
  {
   "cell_type": "markdown",
   "metadata": {},
   "source": [
    "随机森林"
   ]
  },
  {
   "cell_type": "code",
   "execution_count": 68,
   "metadata": {},
   "outputs": [
    {
     "name": "stdout",
     "output_type": "stream",
     "text": [
      "Wall time: 36.9 s\n"
     ]
    }
   ],
   "source": [
    "%%time\n",
    "from sklearn.ensemble import RandomForestClassifier\n",
    "# rf框架参数\n",
    "n_estimators = 100\n",
    "oob_score = True\n",
    "# rf决策树参数\n",
    "max_depth = 100 # 10-100\n",
    "min_samples_split = 3\n",
    "min_samples_leaf = 3\n",
    "\n",
    "rf = RandomForestClassifier(n_estimators=n_estimators,\n",
    "                           oob_score=oob_score,\n",
    "                           max_depth=max_depth,\n",
    "                           min_samples_split=min_samples_split,\n",
    "                           min_samples_leaf=min_samples_leaf)\n",
    "rf.fit(x_nn_train, y_nn_train)\n",
    "pred_Y = rf.predict(x_nn_test)"
   ]
  },
  {
   "cell_type": "code",
   "execution_count": 69,
   "metadata": {},
   "outputs": [
    {
     "name": "stdout",
     "output_type": "stream",
     "text": [
      "Precision 0.6114044350580782\n",
      "Recall 0.6194583751253762\n",
      "f1_score 0.6154050553027536\n",
      "confusion_matrix\n",
      "[[9157 5888]\n",
      " [5691 9264]]\n"
     ]
    },
    {
     "data": {
      "image/png": "[encoded data removed]",
      "text/plain": [
       "<Figure size 432x288 with 1 Axes>"
      ]
     },
     "metadata": {
      "needs_background": "light"
     },
     "output_type": "display_data"
    }
   ],
   "source": [
    "eva(y_nn_test, pred_Y)"
   ]
  },
  {
   "cell_type": "markdown",
   "metadata": {},
   "source": [
    "Logistic回归"
   ]
  },
  {
   "cell_type": "code",
   "execution_count": 40,
   "metadata": {},
   "outputs": [
    {
     "name": "stdout",
     "output_type": "stream",
     "text": [
      "Wall time: 7.87 s\n"
     ]
    }
   ],
   "source": [
    "%%time\n",
    "from sklearn.linear_model import LogisticRegression\n",
    "lgreg = LogisticRegression()\n",
    "lgreg.fit(x_nn_train, y_nn_train)\n",
    "pred_Y = lgreg.predict(x_nn_test)"
   ]
  },
  {
   "cell_type": "code",
   "execution_count": 41,
   "metadata": {},
   "outputs": [
    {
     "name": "stdout",
     "output_type": "stream",
     "text": [
      "Precision 0.5715246485977538\n",
      "Recall 0.5682380474757606\n",
      "f1_score 0.5698766094420601\n",
      "confusion_matrix\n",
      "[[8674 6371]\n",
      " [6457 8498]]\n"
     ]
    },
    {
     "data": {
      "image/png": "[encoded data removed]",
      "text/plain": [
       "<Figure size 432x288 with 1 Axes>"
      ]
     },
     "metadata": {
      "needs_background": "light"
     },
     "output_type": "display_data"
    }
   ],
   "source": [
    "eva(y_nn_test, pred_Y)"
   ]
  },
  {
   "cell_type": "markdown",
   "metadata": {},
   "source": [
    "决策树"
   ]
  },
  {
   "cell_type": "code",
   "execution_count": 42,
   "metadata": {},
   "outputs": [
    {
     "name": "stdout",
     "output_type": "stream",
     "text": [
      "Wall time: 2.47 s\n"
     ]
    }
   ],
   "source": [
    "%%time\n",
    "from sklearn.tree import DecisionTreeClassifier\n",
    "treemodel=DecisionTreeClassifier()\n",
    "treemodel.fit(x_nn_train,y_nn_train)\n",
    "pred_Y = treemodel.predict(x_nn_test)"
   ]
  },
  {
   "cell_type": "code",
   "execution_count": 43,
   "metadata": {},
   "outputs": [
    {
     "name": "stdout",
     "output_type": "stream",
     "text": [
      "Precision 0.5437116046715723\n",
      "Recall 0.5385489802741558\n",
      "f1_score 0.541117979037893\n",
      "confusion_matrix\n",
      "[[8286 6759]\n",
      " [6901 8054]]\n"
     ]
    },
    {
     "data": {
      "image/png": "[encoded data removed]",
      "text/plain": [
       "<Figure size 432x288 with 1 Axes>"
      ]
     },
     "metadata": {
      "needs_background": "light"
     },
     "output_type": "display_data"
    }
   ],
   "source": [
    "eva(y_nn_test, pred_Y)"
   ]
  },
  {
   "cell_type": "markdown",
   "metadata": {},
   "source": [
    "K近邻"
   ]
  },
  {
   "cell_type": "code",
   "execution_count": 44,
   "metadata": {},
   "outputs": [
    {
     "name": "stdout",
     "output_type": "stream",
     "text": [
      "Wall time: 7 s\n"
     ]
    }
   ],
   "source": [
    "%%time\n",
    "from sklearn.neighbors import KNeighborsClassifier\n",
    "KNmodel=KNeighborsClassifier()\n",
    "KNmodel.fit(x_nn_train,y_nn_train)\n",
    "pred_Y = KNmodel.predict(x_nn_test)"
   ]
  },
  {
   "cell_type": "code",
   "execution_count": 45,
   "metadata": {},
   "outputs": [
    {
     "name": "stdout",
     "output_type": "stream",
     "text": [
      "Precision 0.5320395201129146\n",
      "Recall 0.5041123370110331\n",
      "f1_score 0.5176995708154506\n",
      "confusion_matrix\n",
      "[[8414 6631]\n",
      " [7416 7539]]\n"
     ]
    },
    {
     "data": {
      "image/png": "[encoded data removed]",
      "text/plain": [
       "<Figure size 432x288 with 1 Axes>"
      ]
     },
     "metadata": {
      "needs_background": "light"
     },
     "output_type": "display_data"
    }
   ],
   "source": [
    "eva(y_nn_test, pred_Y)"
   ]
  },
  {
   "cell_type": "markdown",
   "metadata": {},
   "source": [
    "SVM"
   ]
  },
  {
   "cell_type": "code",
   "execution_count": 46,
   "metadata": {},
   "outputs": [
    {
     "name": "stdout",
     "output_type": "stream",
     "text": [
      "Wall time: 8min 2s\n"
     ]
    }
   ],
   "source": [
    "%%time\n",
    "from sklearn.svm import SVC\n",
    "svcmodel=SVC(kernel='sigmoid')\n",
    "svcmodel.fit(x_nn_train,y_nn_train)\n",
    "pred_Y = svcmodel.predict(x_nn_test)"
   ]
  },
  {
   "cell_type": "code",
   "execution_count": 47,
   "metadata": {},
   "outputs": [
    {
     "name": "stdout",
     "output_type": "stream",
     "text": [
      "Precision 0.0\n",
      "Recall 0.0\n",
      "f1_score 0.0\n",
      "confusion_matrix\n",
      "[[15045     0]\n",
      " [14955     0]]\n"
     ]
    },
    {
     "data": {
      "image/png": "[encoded data removed]",
      "text/plain": [
       "<Figure size 432x288 with 1 Axes>"
      ]
     },
     "metadata": {
      "needs_background": "light"
     },
     "output_type": "display_data"
    }
   ],
   "source": [
    "eva(y_nn_test, pred_Y)"
   ]
  }
 ],
 "metadata": {
  "kernelspec": {
   "display_name": "Python 3",
   "language": "python",
   "name": "python3"
  },
  "language_info": {
   "codemirror_mode": {
    "name": "ipython",
    "version": 3
   },
   "file_extension": ".py",
   "mimetype": "text/x-python",
   "name": "python",
   "nbconvert_exporter": "python",
   "pygments_lexer": "ipython3",
   "version": "3.6.9"
  }
 },
 "nbformat": 4,
 "nbformat_minor": 4
}
